{
 "cells": [
  {
   "cell_type": "code",
   "execution_count": 5,
   "metadata": {
    "colab": {},
    "colab_type": "code",
    "id": "GQFpc519-wcL"
   },
   "outputs": [],
   "source": [
    "#Import Libraries\n",
    "import pandas as pd\n",
    "import numpy as np\n",
    "import os\n",
    "import matplotlib\n",
    "import matplotlib.pyplot as plt\n",
    "import random\n",
    "%matplotlib inline\n",
    "from sklearn import neighbors, datasets, preprocessing\n",
    "from sklearn.model_selection import train_test_split\n",
    "from sklearn.metrics import accuracy_score\n",
    "from sklearn.preprocessing import StandardScaler\n",
    "from sklearn.preprocessing import Normalizer\n",
    "from sklearn.preprocessing import Binarizer\n",
    "from sklearn.preprocessing import LabelEncoder\n",
    "from sklearn.preprocessing import Imputer\n",
    "from sklearn.preprocessing import PolynomialFeatures\n",
    "from sklearn.model_selection import train_test_split\n",
    "from sklearn.linear_model import LinearRegression\n",
    "from sklearn.svm import SVC\n",
    "from sklearn.naive_bayes import GaussianNB\n",
    "from sklearn import neighbors\n",
    "from sklearn.cluster import KMeans"
   ]
  },
  {
   "cell_type": "code",
   "execution_count": 35,
   "metadata": {
    "colab": {
     "base_uri": "https://localhost:8080/",
     "height": 306
    },
    "colab_type": "code",
    "id": "bXqYMAEJABAZ",
    "outputId": "debced85-5ed4-4b86-abdd-9ab13330181c"
   },
   "outputs": [
    {
     "name": "stdout",
     "output_type": "stream",
     "text": [
      "/bin/sh: nvidia-smi: command not found\r\n"
     ]
    }
   ],
   "source": [
    "!nvidia-smi"
   ]
  },
  {
   "cell_type": "code",
   "execution_count": 0,
   "metadata": {
    "colab": {},
    "colab_type": "code",
    "id": "Bw0BD3z5ye8E"
   },
   "outputs": [],
   "source": [
    "#!pip install tensorflow==1.15"
   ]
  },
  {
   "cell_type": "code",
   "execution_count": 2,
   "metadata": {
    "colab": {
     "base_uri": "https://localhost:8080/",
     "height": 153
    },
    "colab_type": "code",
    "id": "GrkqUjBI_OOs",
    "outputId": "cbd2f220-2f11-4bda-9401-4fcbd00c1aee"
   },
   "outputs": [
    {
     "name": "stdout",
     "output_type": "stream",
     "text": [
      "No Java runtime present, requesting install.\r\n"
     ]
    }
   ],
   "source": [
    "!apt install unzip"
   ]
  },
  {
   "cell_type": "code",
   "execution_count": 3,
   "metadata": {
    "colab": {
     "base_uri": "https://localhost:8080/",
     "height": 85
    },
    "colab_type": "code",
    "id": "pCslJJlY_c2w",
    "outputId": "16497b0e-ac9b-4279-88f5-6931da3ac4f2"
   },
   "outputs": [
    {
     "name": "stdout",
     "output_type": "stream",
     "text": [
      "unzip:  cannot find or open /content/flights.pkl.zip, /content/flights.pkl.zip.zip or /content/flights.pkl.zip.ZIP.\r\n"
     ]
    }
   ],
   "source": [
    "!unzip \"/content/flights.pkl.zip\""
   ]
  },
  {
   "cell_type": "code",
   "execution_count": 7,
   "metadata": {
    "colab": {},
    "colab_type": "code",
    "id": "JWB8zsFBAFC_"
   },
   "outputs": [],
   "source": [
    "df = pd.read_pickle('flights.pkl')"
   ]
  },
  {
   "cell_type": "code",
   "execution_count": 8,
   "metadata": {
    "colab": {
     "base_uri": "https://localhost:8080/",
     "height": 1000
    },
    "colab_type": "code",
    "id": "PYsQRk_pbPhE",
    "outputId": "43ce7fce-54b0-476a-9758-6e77e3ee1ec9"
   },
   "outputs": [
    {
     "name": "stdout",
     "output_type": "stream",
     "text": [
      "<class 'pandas.core.frame.DataFrame'>\n",
      "Int64Index: 2673761 entries, 0 to 2673760\n",
      "Data columns (total 67 columns):\n",
      "YEAR                     int64\n",
      "QUARTER                  int64\n",
      "MONTH                    int64\n",
      "DAY_OF_MONTH             int64\n",
      "DAY_OF_WEEK              int64\n",
      "FL_DATE                  object\n",
      "OP_UNIQUE_CARRIER        object\n",
      "OP_CARRIER_AIRLINE_ID    int64\n",
      "OP_CARRIER               object\n",
      "OP_CARRIER_FL_NUM        int64\n",
      "ORIGIN_AIRPORT_ID        int64\n",
      "ORIGIN_AIRPORT_SEQ_ID    int64\n",
      "ORIGIN_CITY_MARKET_ID    int64\n",
      "ORIGIN                   object\n",
      "ORIGIN_CITY_NAME         object\n",
      "ORIGIN_STATE_ABR         object\n",
      "ORIGIN_STATE_NM          object\n",
      "DEST_AIRPORT_ID          int64\n",
      "DEST_AIRPORT_SEQ_ID      int64\n",
      "DEST_CITY_MARKET_ID      int64\n",
      "DEST                     object\n",
      "DEST_CITY_NAME           object\n",
      "DEST_STATE_ABR           object\n",
      "DEST_STATE_NM            object\n",
      "CRS_DEP_TIME             int64\n",
      "DEP_TIME                 float64\n",
      "DEP_DELAY                float64\n",
      "DEP_DELAY_NEW            float64\n",
      "DEP_DEL15                float64\n",
      "DEP_DELAY_GROUP          float64\n",
      "DEP_TIME_BLK             object\n",
      "TAXI_OUT                 float64\n",
      "WHEELS_OFF               float64\n",
      "WHEELS_ON                float64\n",
      "TAXI_IN                  float64\n",
      "CRS_ARR_TIME             int64\n",
      "ARR_TIME                 float64\n",
      "ARR_DELAY                float64\n",
      "ARR_DELAY_NEW            float64\n",
      "ARR_DEL15                float64\n",
      "ARR_DELAY_GROUP          float64\n",
      "ARR_TIME_BLK             object\n",
      "CANCELLED                float64\n",
      "CANCELLATION_CODE        object\n",
      "DIVERTED                 float64\n",
      "CRS_ELAPSED_TIME         float64\n",
      "ACTUAL_ELAPSED_TIME      float64\n",
      "AIR_TIME                 float64\n",
      "FLIGHTS                  float64\n",
      "DISTANCE                 float64\n",
      "DISTANCE_GROUP           int64\n",
      "CARRIER_DELAY            float64\n",
      "WEATHER_DELAY            float64\n",
      "NAS_DELAY                float64\n",
      "SECURITY_DELAY           float64\n",
      "LATE_AIRCRAFT_DELAY      float64\n",
      "Monthd                   object\n",
      "MY                       object\n",
      "carrier_name             object\n",
      "ORIGIN_AirportName       object\n",
      "ORIGIN_latitude          float64\n",
      "ORIGIN_longitude         float64\n",
      "ORIGIN_elevation_ft      int64\n",
      "DEST_AirportName         object\n",
      "DEST_latitude            float64\n",
      "DEST_longitude           float64\n",
      "DEST_elevation_ft        int64\n",
      "dtypes: float64(30), int64(18), object(19)\n",
      "memory usage: 1.4+ GB\n"
     ]
    }
   ],
   "source": [
    "df.info()"
   ]
  },
  {
   "cell_type": "code",
   "execution_count": 0,
   "metadata": {
    "colab": {
     "base_uri": "https://localhost:8080/",
     "height": 468
    },
    "colab_type": "code",
    "id": "1uJexE0i-9OT",
    "outputId": "3288de1c-26e4-41d6-e7fb-abf8272b78a5"
   },
   "outputs": [
    {
     "data": {
      "image/png": "[encoded data removed]",
      "text/plain": [
       "<Figure size 432x288 with 1 Axes>"
      ]
     },
     "metadata": {
      "tags": []
     },
     "output_type": "display_data"
    },
    {
     "data": {
      "text/plain": [
       "2000-01-31    1.071525\n",
       "2000-02-29   -3.530951\n",
       "2000-03-31   -2.425517\n",
       "2000-04-30    6.072342\n",
       "2000-05-31   -2.792232\n",
       "2000-06-30    1.767212\n",
       "2000-07-31    2.157021\n",
       "2000-08-31    3.657286\n",
       "2000-09-30   -6.105115\n",
       "2000-10-31   -3.787104\n",
       "Freq: M, dtype: float64"
      ]
     },
     "execution_count": 6,
     "metadata": {
      "tags": []
     },
     "output_type": "execute_result"
    }
   ],
   "source": [
    "random.seed(111)\n",
    "rng = pd.date_range(start='2000', periods=209, freq='M')\n",
    "df = pd.Series(np.random.uniform(-10, 10, size=len(rng)), rng).cumsum()\n",
    "df.plot(c='b', title='Time Series')\n",
    "plt.show()\n",
    "df.head(10)"
   ]
  },
  {
   "cell_type": "code",
   "execution_count": 9,
   "metadata": {
    "colab": {
     "base_uri": "https://localhost:8080/",
     "height": 238
    },
    "colab_type": "code",
    "id": "fBbeUrZTl6Ux",
    "outputId": "2407b277-5675-4c3a-fb15-30b2f5435f79"
   },
   "outputs": [
    {
     "data": {
      "text/plain": [
       "DEP_DELAY\n",
       "-47.0          1\n",
       "-35.0          1\n",
       "-34.0          2\n",
       "-31.0          2\n",
       "-30.0          2\n",
       "-29.0          1\n",
       "-28.0          2\n",
       "-27.0          6\n",
       "-26.0          3\n",
       "-25.0          5\n",
       "-24.0         13\n",
       "-23.0         17\n",
       "-22.0         21\n",
       "-21.0         35\n",
       "-20.0         75\n",
       "-19.0        117\n",
       "-18.0        162\n",
       "-17.0        236\n",
       "-16.0        400\n",
       "-15.0        669\n",
       "-14.0        999\n",
       "-13.0       1643\n",
       "-12.0       2393\n",
       "-11.0       3740\n",
       "-10.0       7202\n",
       "-9.0        9227\n",
       "-8.0       13055\n",
       "-7.0       18199\n",
       "-6.0       23903\n",
       "-5.0       30720\n",
       "           ...  \n",
       " 1682.0        1\n",
       " 1690.0        1\n",
       " 1718.0        1\n",
       " 1723.0        1\n",
       " 1741.0        1\n",
       " 1742.0        1\n",
       " 1751.0        1\n",
       " 1752.0        1\n",
       " 1753.0        1\n",
       " 1787.0        1\n",
       " 1789.0        1\n",
       " 1790.0        1\n",
       " 1792.0        1\n",
       " 1822.0        2\n",
       " 1839.0        1\n",
       " 1855.0        1\n",
       " 1861.0        1\n",
       " 1959.0        1\n",
       " 2007.0        1\n",
       " 2058.0        1\n",
       " 2064.0        1\n",
       " 2079.0        1\n",
       " 2098.0        8\n",
       " 2109.0        1\n",
       " 2209.0        1\n",
       " 2315.0        1\n",
       " 2468.0        1\n",
       " 2482.0        1\n",
       " 2672.0        1\n",
       " 2710.0        1\n",
       "Length: 1576, dtype: int64"
      ]
     },
     "execution_count": 9,
     "metadata": {},
     "output_type": "execute_result"
    }
   ],
   "source": [
    "df.groupby('DEP_DELAY').size()"
   ]
  },
  {
   "cell_type": "code",
   "execution_count": 10,
   "metadata": {
    "colab": {},
    "colab_type": "code",
    "id": "Qf-Cgb_DmHaU"
   },
   "outputs": [],
   "source": [
    "df = df.loc[~df.CANCELLED.isin([1])]"
   ]
  },
  {
   "cell_type": "code",
   "execution_count": 11,
   "metadata": {
    "colab": {},
    "colab_type": "code",
    "id": "wmKqBYUhnAxd"
   },
   "outputs": [],
   "source": [
    "df['OUTPUT_LABEL'] = (df.DEP_DELAY >=0).astype('int')"
   ]
  },
  {
   "cell_type": "code",
   "execution_count": 12,
   "metadata": {
    "colab": {},
    "colab_type": "code",
    "id": "QLuJprkmnmHU"
   },
   "outputs": [],
   "source": [
    "def clac_prevalence(y_actual):\n",
    "  return (sum(y_actual)/len(y_actual))"
   ]
  },
  {
   "cell_type": "code",
   "execution_count": 13,
   "metadata": {
    "colab": {
     "base_uri": "https://localhost:8080/",
     "height": 34
    },
    "colab_type": "code",
    "id": "bZYCfqlxoaoY",
    "outputId": "ef20f876-e88b-4933-fa77-68b85dc0bae0"
   },
   "outputs": [
    {
     "name": "stdout",
     "output_type": "stream",
     "text": [
      "prevalence:0.895\n"
     ]
    }
   ],
   "source": [
    "print ('prevalence:%.3f'%clac_prevalence(df['OUTPUT_LABEL'].values))"
   ]
  },
  {
   "cell_type": "code",
   "execution_count": 14,
   "metadata": {
    "colab": {
     "base_uri": "https://localhost:8080/",
     "height": 34
    },
    "colab_type": "code",
    "id": "fah8Wb82o9N1",
    "outputId": "b60e4a48-dc3b-445b-9eca-05a40921ce3c"
   },
   "outputs": [
    {
     "data": {
      "text/plain": [
       "['CRS_DEP_TIME', 'DEP_TIME', 'DISTANCE', 'CRS_ARR_TIME', 'DAY_OF_WEEK']"
      ]
     },
     "execution_count": 14,
     "metadata": {},
     "output_type": "execute_result"
    }
   ],
   "source": [
    "cols_num = ['CRS_DEP_TIME', 'DEP_TIME', 'DISTANCE', 'CRS_ARR_TIME', 'DAY_OF_WEEK']\n",
    "cols_num"
   ]
  },
  {
   "cell_type": "code",
   "execution_count": 15,
   "metadata": {
    "colab": {
     "base_uri": "https://localhost:8080/",
     "height": 119
    },
    "colab_type": "code",
    "id": "TaRknwgFqLKW",
    "outputId": "40f6d4bb-0ed6-4707-db8b-75a6251728f5"
   },
   "outputs": [
    {
     "data": {
      "text/plain": [
       "CRS_DEP_TIME    0\n",
       "DEP_TIME        0\n",
       "DISTANCE        0\n",
       "CRS_ARR_TIME    0\n",
       "DAY_OF_WEEK     0\n",
       "dtype: int64"
      ]
     },
     "execution_count": 15,
     "metadata": {},
     "output_type": "execute_result"
    }
   ],
   "source": [
    "df[cols_num].isnull().sum()"
   ]
  },
  {
   "cell_type": "code",
   "execution_count": 16,
   "metadata": {
    "colab": {
     "base_uri": "https://localhost:8080/",
     "height": 34
    },
    "colab_type": "code",
    "id": "P16pH6FbqXo5",
    "outputId": "0a3c98dd-d29e-4add-ec97-7dc8cd28e665"
   },
   "outputs": [
    {
     "data": {
      "text/plain": [
       "['OP_CARRIER', 'ORIGIN', 'DEST']"
      ]
     },
     "execution_count": 16,
     "metadata": {},
     "output_type": "execute_result"
    }
   ],
   "source": [
    "cols_cat = ['OP_CARRIER', 'ORIGIN', 'DEST']\n",
    "cols_cat"
   ]
  },
  {
   "cell_type": "code",
   "execution_count": 17,
   "metadata": {
    "colab": {
     "base_uri": "https://localhost:8080/",
     "height": 85
    },
    "colab_type": "code",
    "id": "JtlFMd4Pq8_G",
    "outputId": "d92dbfd9-df75-4af3-b982-da1ba79ad665"
   },
   "outputs": [
    {
     "data": {
      "text/plain": [
       "OP_CARRIER    0\n",
       "ORIGIN        0\n",
       "DEST          0\n",
       "dtype: int64"
      ]
     },
     "execution_count": 17,
     "metadata": {},
     "output_type": "execute_result"
    }
   ],
   "source": [
    "df[cols_cat].isnull().sum()"
   ]
  },
  {
   "cell_type": "code",
   "execution_count": 18,
   "metadata": {
    "colab": {},
    "colab_type": "code",
    "id": "YfDZskS1rHEY"
   },
   "outputs": [
    {
     "data": {
      "text/plain": [
       "OP_CARRIER     18\n",
       "ORIGIN        362\n",
       "DEST          362\n",
       "dtype: int64"
      ]
     },
     "execution_count": 18,
     "metadata": {},
     "output_type": "execute_result"
    }
   ],
   "source": [
    "df[cols_cat].nunique()"
   ]
  },
  {
   "cell_type": "code",
   "execution_count": 19,
   "metadata": {
    "colab": {
     "base_uri": "https://localhost:8080/",
     "height": 253
    },
    "colab_type": "code",
    "id": "Mw7GPOO0rQ2a",
    "outputId": "398c5949-d83c-4965-b095-9623cd11ce4d"
   },
   "outputs": [
    {
     "data": {
      "text/html": [
       "<div>\n",
       "<style scoped>\n",
       "    .dataframe tbody tr th:only-of-type {\n",
       "        vertical-align: middle;\n",
       "    }\n",
       "\n",
       "    .dataframe tbody tr th {\n",
       "        vertical-align: top;\n",
       "    }\n",
       "\n",
       "    .dataframe thead th {\n",
       "        text-align: right;\n",
       "    }\n",
       "</style>\n",
       "<table border=\"1\" class=\"dataframe\">\n",
       "  <thead>\n",
       "    <tr style=\"text-align: right;\">\n",
       "      <th></th>\n",
       "      <th>OP_CARRIER_AA</th>\n",
       "      <th>OP_CARRIER_AS</th>\n",
       "      <th>OP_CARRIER_B6</th>\n",
       "      <th>OP_CARRIER_DL</th>\n",
       "      <th>OP_CARRIER_EV</th>\n",
       "      <th>OP_CARRIER_F9</th>\n",
       "      <th>OP_CARRIER_G4</th>\n",
       "      <th>OP_CARRIER_HA</th>\n",
       "      <th>OP_CARRIER_MQ</th>\n",
       "      <th>OP_CARRIER_NK</th>\n",
       "      <th>...</th>\n",
       "      <th>DEST_USA</th>\n",
       "      <th>DEST_VEL</th>\n",
       "      <th>DEST_VLD</th>\n",
       "      <th>DEST_VPS</th>\n",
       "      <th>DEST_WRG</th>\n",
       "      <th>DEST_WYS</th>\n",
       "      <th>DEST_XNA</th>\n",
       "      <th>DEST_YAK</th>\n",
       "      <th>DEST_YNG</th>\n",
       "      <th>DEST_YUM</th>\n",
       "    </tr>\n",
       "  </thead>\n",
       "  <tbody>\n",
       "    <tr>\n",
       "      <th>0</th>\n",
       "      <td>0</td>\n",
       "      <td>0</td>\n",
       "      <td>0</td>\n",
       "      <td>0</td>\n",
       "      <td>0</td>\n",
       "      <td>0</td>\n",
       "      <td>0</td>\n",
       "      <td>0</td>\n",
       "      <td>0</td>\n",
       "      <td>0</td>\n",
       "      <td>...</td>\n",
       "      <td>0</td>\n",
       "      <td>0</td>\n",
       "      <td>0</td>\n",
       "      <td>0</td>\n",
       "      <td>0</td>\n",
       "      <td>0</td>\n",
       "      <td>0</td>\n",
       "      <td>0</td>\n",
       "      <td>0</td>\n",
       "      <td>0</td>\n",
       "    </tr>\n",
       "    <tr>\n",
       "      <th>1</th>\n",
       "      <td>0</td>\n",
       "      <td>0</td>\n",
       "      <td>0</td>\n",
       "      <td>0</td>\n",
       "      <td>0</td>\n",
       "      <td>0</td>\n",
       "      <td>0</td>\n",
       "      <td>0</td>\n",
       "      <td>0</td>\n",
       "      <td>0</td>\n",
       "      <td>...</td>\n",
       "      <td>0</td>\n",
       "      <td>0</td>\n",
       "      <td>0</td>\n",
       "      <td>0</td>\n",
       "      <td>0</td>\n",
       "      <td>0</td>\n",
       "      <td>0</td>\n",
       "      <td>0</td>\n",
       "      <td>0</td>\n",
       "      <td>0</td>\n",
       "    </tr>\n",
       "    <tr>\n",
       "      <th>2</th>\n",
       "      <td>0</td>\n",
       "      <td>0</td>\n",
       "      <td>0</td>\n",
       "      <td>0</td>\n",
       "      <td>0</td>\n",
       "      <td>0</td>\n",
       "      <td>0</td>\n",
       "      <td>0</td>\n",
       "      <td>0</td>\n",
       "      <td>0</td>\n",
       "      <td>...</td>\n",
       "      <td>0</td>\n",
       "      <td>0</td>\n",
       "      <td>0</td>\n",
       "      <td>0</td>\n",
       "      <td>0</td>\n",
       "      <td>0</td>\n",
       "      <td>0</td>\n",
       "      <td>0</td>\n",
       "      <td>0</td>\n",
       "      <td>0</td>\n",
       "    </tr>\n",
       "    <tr>\n",
       "      <th>3</th>\n",
       "      <td>0</td>\n",
       "      <td>0</td>\n",
       "      <td>0</td>\n",
       "      <td>0</td>\n",
       "      <td>0</td>\n",
       "      <td>0</td>\n",
       "      <td>0</td>\n",
       "      <td>0</td>\n",
       "      <td>0</td>\n",
       "      <td>0</td>\n",
       "      <td>...</td>\n",
       "      <td>0</td>\n",
       "      <td>0</td>\n",
       "      <td>0</td>\n",
       "      <td>0</td>\n",
       "      <td>0</td>\n",
       "      <td>0</td>\n",
       "      <td>0</td>\n",
       "      <td>0</td>\n",
       "      <td>0</td>\n",
       "      <td>0</td>\n",
       "    </tr>\n",
       "    <tr>\n",
       "      <th>4</th>\n",
       "      <td>0</td>\n",
       "      <td>0</td>\n",
       "      <td>0</td>\n",
       "      <td>0</td>\n",
       "      <td>0</td>\n",
       "      <td>0</td>\n",
       "      <td>0</td>\n",
       "      <td>0</td>\n",
       "      <td>0</td>\n",
       "      <td>0</td>\n",
       "      <td>...</td>\n",
       "      <td>0</td>\n",
       "      <td>0</td>\n",
       "      <td>0</td>\n",
       "      <td>0</td>\n",
       "      <td>0</td>\n",
       "      <td>0</td>\n",
       "      <td>0</td>\n",
       "      <td>0</td>\n",
       "      <td>0</td>\n",
       "      <td>0</td>\n",
       "    </tr>\n",
       "  </tbody>\n",
       "</table>\n",
       "<p>5 rows × 739 columns</p>\n",
       "</div>"
      ],
      "text/plain": [
       "   OP_CARRIER_AA  OP_CARRIER_AS  OP_CARRIER_B6  OP_CARRIER_DL  OP_CARRIER_EV  \\\n",
       "0              0              0              0              0              0   \n",
       "1              0              0              0              0              0   \n",
       "2              0              0              0              0              0   \n",
       "3              0              0              0              0              0   \n",
       "4              0              0              0              0              0   \n",
       "\n",
       "   OP_CARRIER_F9  OP_CARRIER_G4  OP_CARRIER_HA  OP_CARRIER_MQ  OP_CARRIER_NK  \\\n",
       "0              0              0              0              0              0   \n",
       "1              0              0              0              0              0   \n",
       "2              0              0              0              0              0   \n",
       "3              0              0              0              0              0   \n",
       "4              0              0              0              0              0   \n",
       "\n",
       "   ...  DEST_USA  DEST_VEL  DEST_VLD  DEST_VPS  DEST_WRG  DEST_WYS  DEST_XNA  \\\n",
       "0  ...         0         0         0         0         0         0         0   \n",
       "1  ...         0         0         0         0         0         0         0   \n",
       "2  ...         0         0         0         0         0         0         0   \n",
       "3  ...         0         0         0         0         0         0         0   \n",
       "4  ...         0         0         0         0         0         0         0   \n",
       "\n",
       "   DEST_YAK  DEST_YNG  DEST_YUM  \n",
       "0         0         0         0  \n",
       "1         0         0         0  \n",
       "2         0         0         0  \n",
       "3         0         0         0  \n",
       "4         0         0         0  \n",
       "\n",
       "[5 rows x 739 columns]"
      ]
     },
     "execution_count": 19,
     "metadata": {},
     "output_type": "execute_result"
    }
   ],
   "source": [
    "df_cat = pd.get_dummies(df[cols_cat],drop_first = True)\n",
    "df_cat.head()"
   ]
  },
  {
   "cell_type": "code",
   "execution_count": 20,
   "metadata": {
    "colab": {},
    "colab_type": "code",
    "id": "Y62LghNJto6c"
   },
   "outputs": [],
   "source": [
    "df = pd.concat([df,df_cat], axis = 1)"
   ]
  },
  {
   "cell_type": "code",
   "execution_count": 21,
   "metadata": {
    "colab": {
     "base_uri": "https://localhost:8080/",
     "height": 34
    },
    "colab_type": "code",
    "id": "rkjLsaxBuCK5",
    "outputId": "8d7491ce-6db7-4c97-f856-33c2a8bf2259"
   },
   "outputs": [
    {
     "name": "stdout",
     "output_type": "stream",
     "text": [
      "number of catergorical: 739\n"
     ]
    }
   ],
   "source": [
    "cols_all_cat = list(df_cat.columns)\n",
    "print('number of catergorical:',len(cols_all_cat))"
   ]
  },
  {
   "cell_type": "code",
   "execution_count": 22,
   "metadata": {
    "colab": {
     "base_uri": "https://localhost:8080/",
     "height": 253
    },
    "colab_type": "code",
    "id": "jVXVNpLBvGJn",
    "outputId": "763c56ad-9f91-4ebe-a331-a4c04cd3f83f"
   },
   "outputs": [
    {
     "data": {
      "text/html": [
       "<div>\n",
       "<style scoped>\n",
       "    .dataframe tbody tr th:only-of-type {\n",
       "        vertical-align: middle;\n",
       "    }\n",
       "\n",
       "    .dataframe tbody tr th {\n",
       "        vertical-align: top;\n",
       "    }\n",
       "\n",
       "    .dataframe thead th {\n",
       "        text-align: right;\n",
       "    }\n",
       "</style>\n",
       "<table border=\"1\" class=\"dataframe\">\n",
       "  <thead>\n",
       "    <tr style=\"text-align: right;\">\n",
       "      <th></th>\n",
       "      <th>CRS_DEP_TIME</th>\n",
       "      <th>DEP_TIME</th>\n",
       "      <th>DISTANCE</th>\n",
       "      <th>CRS_ARR_TIME</th>\n",
       "      <th>DAY_OF_WEEK</th>\n",
       "      <th>OP_CARRIER_AA</th>\n",
       "      <th>OP_CARRIER_AS</th>\n",
       "      <th>OP_CARRIER_B6</th>\n",
       "      <th>OP_CARRIER_DL</th>\n",
       "      <th>OP_CARRIER_EV</th>\n",
       "      <th>...</th>\n",
       "      <th>DEST_VEL</th>\n",
       "      <th>DEST_VLD</th>\n",
       "      <th>DEST_VPS</th>\n",
       "      <th>DEST_WRG</th>\n",
       "      <th>DEST_WYS</th>\n",
       "      <th>DEST_XNA</th>\n",
       "      <th>DEST_YAK</th>\n",
       "      <th>DEST_YNG</th>\n",
       "      <th>DEST_YUM</th>\n",
       "      <th>OUTPUT_LABEL</th>\n",
       "    </tr>\n",
       "  </thead>\n",
       "  <tbody>\n",
       "    <tr>\n",
       "      <th>0</th>\n",
       "      <td>1555</td>\n",
       "      <td>1610.0</td>\n",
       "      <td>759.0</td>\n",
       "      <td>1850</td>\n",
       "      <td>1</td>\n",
       "      <td>0</td>\n",
       "      <td>0</td>\n",
       "      <td>0</td>\n",
       "      <td>0</td>\n",
       "      <td>0</td>\n",
       "      <td>...</td>\n",
       "      <td>0</td>\n",
       "      <td>0</td>\n",
       "      <td>0</td>\n",
       "      <td>0</td>\n",
       "      <td>0</td>\n",
       "      <td>0</td>\n",
       "      <td>0</td>\n",
       "      <td>0</td>\n",
       "      <td>0</td>\n",
       "      <td>1</td>\n",
       "    </tr>\n",
       "    <tr>\n",
       "      <th>1</th>\n",
       "      <td>650</td>\n",
       "      <td>743.0</td>\n",
       "      <td>759.0</td>\n",
       "      <td>950</td>\n",
       "      <td>5</td>\n",
       "      <td>0</td>\n",
       "      <td>0</td>\n",
       "      <td>0</td>\n",
       "      <td>0</td>\n",
       "      <td>0</td>\n",
       "      <td>...</td>\n",
       "      <td>0</td>\n",
       "      <td>0</td>\n",
       "      <td>0</td>\n",
       "      <td>0</td>\n",
       "      <td>0</td>\n",
       "      <td>0</td>\n",
       "      <td>0</td>\n",
       "      <td>0</td>\n",
       "      <td>0</td>\n",
       "      <td>1</td>\n",
       "    </tr>\n",
       "    <tr>\n",
       "      <th>2</th>\n",
       "      <td>1540</td>\n",
       "      <td>1658.0</td>\n",
       "      <td>759.0</td>\n",
       "      <td>1840</td>\n",
       "      <td>5</td>\n",
       "      <td>0</td>\n",
       "      <td>0</td>\n",
       "      <td>0</td>\n",
       "      <td>0</td>\n",
       "      <td>0</td>\n",
       "      <td>...</td>\n",
       "      <td>0</td>\n",
       "      <td>0</td>\n",
       "      <td>0</td>\n",
       "      <td>0</td>\n",
       "      <td>0</td>\n",
       "      <td>0</td>\n",
       "      <td>0</td>\n",
       "      <td>0</td>\n",
       "      <td>0</td>\n",
       "      <td>1</td>\n",
       "    </tr>\n",
       "    <tr>\n",
       "      <th>3</th>\n",
       "      <td>1540</td>\n",
       "      <td>1628.0</td>\n",
       "      <td>759.0</td>\n",
       "      <td>1840</td>\n",
       "      <td>4</td>\n",
       "      <td>0</td>\n",
       "      <td>0</td>\n",
       "      <td>0</td>\n",
       "      <td>0</td>\n",
       "      <td>0</td>\n",
       "      <td>...</td>\n",
       "      <td>0</td>\n",
       "      <td>0</td>\n",
       "      <td>0</td>\n",
       "      <td>0</td>\n",
       "      <td>0</td>\n",
       "      <td>0</td>\n",
       "      <td>0</td>\n",
       "      <td>0</td>\n",
       "      <td>0</td>\n",
       "      <td>1</td>\n",
       "    </tr>\n",
       "    <tr>\n",
       "      <th>4</th>\n",
       "      <td>1540</td>\n",
       "      <td>1638.0</td>\n",
       "      <td>759.0</td>\n",
       "      <td>1840</td>\n",
       "      <td>4</td>\n",
       "      <td>0</td>\n",
       "      <td>0</td>\n",
       "      <td>0</td>\n",
       "      <td>0</td>\n",
       "      <td>0</td>\n",
       "      <td>...</td>\n",
       "      <td>0</td>\n",
       "      <td>0</td>\n",
       "      <td>0</td>\n",
       "      <td>0</td>\n",
       "      <td>0</td>\n",
       "      <td>0</td>\n",
       "      <td>0</td>\n",
       "      <td>0</td>\n",
       "      <td>0</td>\n",
       "      <td>1</td>\n",
       "    </tr>\n",
       "  </tbody>\n",
       "</table>\n",
       "<p>5 rows × 745 columns</p>\n",
       "</div>"
      ],
      "text/plain": [
       "   CRS_DEP_TIME  DEP_TIME  DISTANCE  CRS_ARR_TIME  DAY_OF_WEEK  OP_CARRIER_AA  \\\n",
       "0          1555    1610.0     759.0          1850            1              0   \n",
       "1           650     743.0     759.0           950            5              0   \n",
       "2          1540    1658.0     759.0          1840            5              0   \n",
       "3          1540    1628.0     759.0          1840            4              0   \n",
       "4          1540    1638.0     759.0          1840            4              0   \n",
       "\n",
       "   OP_CARRIER_AS  OP_CARRIER_B6  OP_CARRIER_DL  OP_CARRIER_EV  ...  DEST_VEL  \\\n",
       "0              0              0              0              0  ...         0   \n",
       "1              0              0              0              0  ...         0   \n",
       "2              0              0              0              0  ...         0   \n",
       "3              0              0              0              0  ...         0   \n",
       "4              0              0              0              0  ...         0   \n",
       "\n",
       "   DEST_VLD  DEST_VPS  DEST_WRG  DEST_WYS  DEST_XNA  DEST_YAK  DEST_YNG  \\\n",
       "0         0         0         0         0         0         0         0   \n",
       "1         0         0         0         0         0         0         0   \n",
       "2         0         0         0         0         0         0         0   \n",
       "3         0         0         0         0         0         0         0   \n",
       "4         0         0         0         0         0         0         0   \n",
       "\n",
       "   DEST_YUM  OUTPUT_LABEL  \n",
       "0         0             1  \n",
       "1         0             1  \n",
       "2         0             1  \n",
       "3         0             1  \n",
       "4         0             1  \n",
       "\n",
       "[5 rows x 745 columns]"
      ]
     },
     "execution_count": 22,
     "metadata": {},
     "output_type": "execute_result"
    }
   ],
   "source": [
    "cols_input = cols_num + cols_all_cat\n",
    "df_data = df[cols_input + ['OUTPUT_LABEL']]\n",
    "df_data.head()"
   ]
  },
  {
   "cell_type": "code",
   "execution_count": 23,
   "metadata": {
    "colab": {},
    "colab_type": "code",
    "id": "3j9MEplPwC-8"
   },
   "outputs": [],
   "source": [
    "df_data = df_data.sample(n = len(df_data))\n",
    "df_data = df_data.reset_index(drop = True)"
   ]
  },
  {
   "cell_type": "code",
   "execution_count": 24,
   "metadata": {
    "colab": {
     "base_uri": "https://localhost:8080/",
     "height": 34
    },
    "colab_type": "code",
    "id": "ZMWJtrYW0aaD",
    "outputId": "37f80219-ea7a-45e9-d8a8-f29e1ef2e4d4"
   },
   "outputs": [
    {
     "name": "stdout",
     "output_type": "stream",
     "text": [
      "Split size: 0.300\n"
     ]
    }
   ],
   "source": [
    "df_valid_test=df_data.sample(frac=0.30, replace=True)\n",
    "print('Split size: %.3f'%(len(df_valid_test)/len(df_data)))"
   ]
  },
  {
   "cell_type": "code",
   "execution_count": 25,
   "metadata": {
    "colab": {},
    "colab_type": "code",
    "id": "p-YwZgc31RHz"
   },
   "outputs": [],
   "source": [
    "df_test = df_valid_test.sample(frac=0.5, replace=True)\n",
    "df_valid = df_valid_test.drop(df_test.index)"
   ]
  },
  {
   "cell_type": "code",
   "execution_count": 26,
   "metadata": {
    "colab": {},
    "colab_type": "code",
    "id": "WxOCq7HY2ZtM"
   },
   "outputs": [],
   "source": [
    "df_train_all=df_data.drop(df_valid_test.index) "
   ]
  },
  {
   "cell_type": "code",
   "execution_count": 27,
   "metadata": {
    "colab": {
     "base_uri": "https://localhost:8080/",
     "height": 68
    },
    "colab_type": "code",
    "id": "XW9a9sm826Lu",
    "outputId": "2628cb78-92bc-4cfc-d589-cbeee2213fac"
   },
   "outputs": [
    {
     "name": "stdout",
     "output_type": "stream",
     "text": [
      "Test prevalence(n = 365505):0.896\n",
      "Valid prevalence(n = 393768):0.895\n",
      "Train all prevalence(n = 1805436):0.896\n"
     ]
    }
   ],
   "source": [
    "print('Test prevalence(n = %d):%.3f'%(len(df_test),clac_prevalence(df_test.OUTPUT_LABEL.values)))\n",
    "print('Valid prevalence(n = %d):%.3f'%(len(df_valid),clac_prevalence(df_valid.OUTPUT_LABEL.values)))\n",
    "print('Train all prevalence(n = %d):%.3f'%(len(df_train_all),clac_prevalence(df_test.OUTPUT_LABEL.values)))"
   ]
  },
  {
   "cell_type": "code",
   "execution_count": 28,
   "metadata": {
    "colab": {
     "base_uri": "https://localhost:8080/",
     "height": 34
    },
    "colab_type": "code",
    "id": "CEikJlSX7tr9",
    "outputId": "345dd7ae-f808-4240-eb9b-a07698a8f22b"
   },
   "outputs": [
    {
     "name": "stdout",
     "output_type": "stream",
     "text": [
      "all samples (n = 2436701)\n"
     ]
    }
   ],
   "source": [
    "print('all samples (n = %d)'%len(df_data))"
   ]
  },
  {
   "cell_type": "code",
   "execution_count": 29,
   "metadata": {
    "colab": {},
    "colab_type": "code",
    "id": "3hNf8-I4a3v0"
   },
   "outputs": [],
   "source": [
    "rows_pos = df_train_all.OUTPUT_LABEL == 1\n",
    "df_train_pos = df_train_all.loc[rows_pos]\n",
    "df_train_neg = df_train_all.loc[~rows_pos]"
   ]
  },
  {
   "cell_type": "code",
   "execution_count": 30,
   "metadata": {
    "colab": {},
    "colab_type": "code",
    "id": "zgMjp24rclFB"
   },
   "outputs": [],
   "source": [
    "df_train = pd.concat([df_train_pos, df_train_neg.sample(n = len(df_train_pos), replace = True, axis = 0)])"
   ]
  },
  {
   "cell_type": "code",
   "execution_count": 31,
   "metadata": {
    "colab": {},
    "colab_type": "code",
    "id": "SBFanKtIcnaO"
   },
   "outputs": [],
   "source": [
    "df_train = df_train.sample(n = len(df_train)).reset_index(drop = True)"
   ]
  },
  {
   "cell_type": "code",
   "execution_count": 32,
   "metadata": {
    "colab": {
     "base_uri": "https://localhost:8080/",
     "height": 34
    },
    "colab_type": "code",
    "id": "e2pgEMcWczrQ",
    "outputId": "4d75f48e-a800-4fd8-e39a-dd0e7c7fd743"
   },
   "outputs": [
    {
     "name": "stdout",
     "output_type": "stream",
     "text": [
      "Train balanced prevalence(n = 3230386):0.500\n"
     ]
    }
   ],
   "source": [
    "print('Train balanced prevalence(n = %d):%.3f'%(len(df_train),clac_prevalence(df_train.OUTPUT_LABEL.values))) "
   ]
  },
  {
   "cell_type": "code",
   "execution_count": 0,
   "metadata": {
    "colab": {},
    "colab_type": "code",
    "id": "2BgNYh968xCN"
   },
   "outputs": [],
   "source": [
    "df_train_all.to_csv('df_train_all.csv',index=False)\n",
    "df_train.to_csv('df_train.csv',index=False)\n",
    "df_valid.to_csv('df_valid.csv',index=False)\n",
    "df_test.to_csv('df_test.csv',index=False)"
   ]
  },
  {
   "cell_type": "code",
   "execution_count": 35,
   "metadata": {
    "colab": {},
    "colab_type": "code",
    "id": "XstwrnnZYC6H"
   },
   "outputs": [],
   "source": [
    "import pickle\n",
    "pickle.dump(cols_input, open('cols_input.sav', 'wb'))"
   ]
  },
  {
   "cell_type": "code",
   "execution_count": 36,
   "metadata": {
    "colab": {},
    "colab_type": "code",
    "id": "AEpqd2FcYKfo"
   },
   "outputs": [],
   "source": [
    "def fill_my_missing(df, df_mean, col2use):\n",
    "\n",
    "    for c in col2use:\n",
    "        assert c in df.columns, c + ' not in df'\n",
    "        assert c in df_mean.col.values, c+ 'not in df_mean'\n",
    "     \n",
    "    for c in col2use:\n",
    "        mean_value = df_mean.loc[df_mean.col == c,'mean_val'].values[0]\n",
    "        df[c] = df[c].fillna(mean_value)\n",
    "    return df"
   ]
  },
  {
   "cell_type": "code",
   "execution_count": 33,
   "metadata": {
    "colab": {},
    "colab_type": "code",
    "id": "9y9rhItkYMfQ"
   },
   "outputs": [],
   "source": [
    "# create the X and y matrices\n",
    "X_train = df_train[cols_input].values"
   ]
  },
  {
   "cell_type": "code",
   "execution_count": 34,
   "metadata": {
    "colab": {},
    "colab_type": "code",
    "id": "jyUqJE0yepLM"
   },
   "outputs": [],
   "source": [
    "X_train_all = df_train_all[cols_input].values"
   ]
  },
  {
   "cell_type": "code",
   "execution_count": 35,
   "metadata": {
    "colab": {},
    "colab_type": "code",
    "id": "cdRkoLqTerMH"
   },
   "outputs": [],
   "source": [
    "X_valid = df_valid[cols_input].values"
   ]
  },
  {
   "cell_type": "code",
   "execution_count": 36,
   "metadata": {
    "colab": {},
    "colab_type": "code",
    "id": "cSt2gXImZRYv"
   },
   "outputs": [],
   "source": [
    "y_train = df_train['OUTPUT_LABEL'].values\n",
    "y_valid = df_valid['OUTPUT_LABEL'].values"
   ]
  },
  {
   "cell_type": "code",
   "execution_count": 37,
   "metadata": {
    "colab": {},
    "colab_type": "code",
    "id": "cefwykWqZTky"
   },
   "outputs": [
    {
     "name": "stdout",
     "output_type": "stream",
     "text": [
      "Training All shapes: (1805436, 744)\n",
      "Training shapes: (3230386, 744) (3230386,)\n",
      "Validation shapes: (393768, 744) (393768,)\n"
     ]
    }
   ],
   "source": [
    "print('Training All shapes:',X_train_all.shape)\n",
    "print('Training shapes:',X_train.shape, y_train.shape)\n",
    "print('Validation shapes:',X_valid.shape, y_valid.shape)"
   ]
  },
  {
   "cell_type": "code",
   "execution_count": 38,
   "metadata": {
    "colab": {},
    "colab_type": "code",
    "id": "PB2p-JvEZ2hR"
   },
   "outputs": [
    {
     "data": {
      "text/plain": [
       "StandardScaler(copy=True, with_mean=True, with_std=True)"
      ]
     },
     "execution_count": 38,
     "metadata": {},
     "output_type": "execute_result"
    }
   ],
   "source": [
    "from sklearn.preprocessing import StandardScaler\n",
    "scaler  = StandardScaler()\n",
    "scaler.fit(X_train_all)"
   ]
  },
  {
   "cell_type": "code",
   "execution_count": 43,
   "metadata": {
    "colab": {},
    "colab_type": "code",
    "id": "Rx7PGXLfZ5MV"
   },
   "outputs": [],
   "source": [
    "scalerfile = 'scaler.sav'\n",
    "pickle.dump(scaler, open(scalerfile, 'wb'))"
   ]
  },
  {
   "cell_type": "code",
   "execution_count": 44,
   "metadata": {},
   "outputs": [],
   "source": [
    "scaler = pickle.load(open(scalerfile, 'rb'))"
   ]
  },
  {
   "cell_type": "code",
   "execution_count": 39,
   "metadata": {
    "colab": {},
    "colab_type": "code",
    "id": "HTo3HOpsZ7JH"
   },
   "outputs": [],
   "source": [
    "X_train_tf = scaler.transform(X_train)\n",
    "X_valid_tf = scaler.transform(X_valid)"
   ]
  },
  {
   "cell_type": "code",
   "execution_count": 40,
   "metadata": {
    "colab": {},
    "colab_type": "code",
    "id": "CmA3KFfaklUF"
   },
   "outputs": [],
   "source": [
    "from sklearn.metrics import roc_auc_score, accuracy_score, precision_score, recall_score\n",
    "def calc_specificity(y_actual,y_pred, thresh):\n",
    "\n",
    "    return sum((y_pred < thresh) & (y_actual == 0)) /sum(y_actual ==0)\n",
    "\n",
    "def print_report(y_actual, y_pred, thresh):\n",
    "\n",
    "  auc = roc_auc_score(y_actual, y_pred)\n",
    "  accuracy = accuracy_score(y_actual, (y_pred > thresh))\n",
    "  recall = recall_score(y_actual,(y_pred > thresh))\n",
    "  precision = precision_score(y_actual,(y_pred > thresh))\n",
    "  specificity = calc_specificity(y_actual, (y_pred, thresh))\n",
    "  print('AUC:%.3f'%auc)\n",
    "  print('accuracy:%.3f'%accuracy)\n",
    "  print('recall:%.3f'%recall)\n",
    "  print('precision:%.3f'%precision)\n",
    "  print('specifcity:%.3f'%specifcity)\n",
    "  print('prevalence:%.3f'%specifcity)\n",
    "  print('prevalence:%.3f'%specifcity(y_actual))\n",
    "  print('')\n",
    "  return auc, accuracy, recall, precision, specifcity"
   ]
  },
  {
   "cell_type": "code",
   "execution_count": 41,
   "metadata": {
    "colab": {},
    "colab_type": "code",
    "id": "KxSqo2Ocue07"
   },
   "outputs": [],
   "source": [
    "thresh = 0.5"
   ]
  },
  {
   "cell_type": "code",
   "execution_count": 42,
   "metadata": {
    "colab": {},
    "colab_type": "code",
    "id": "yjWa2NGk2vB-"
   },
   "outputs": [],
   "source": [
    "import warnings\n",
    "warnings.filterwarnings('ignore')"
   ]
  },
  {
   "cell_type": "code",
   "execution_count": 43,
   "metadata": {},
   "outputs": [],
   "source": [
    "from sklearn.linear_model import LogisticRegression"
   ]
  },
  {
   "cell_type": "code",
   "execution_count": 44,
   "metadata": {},
   "outputs": [],
   "source": [
    "lr = LogisticRegression() "
   ]
  },
  {
   "cell_type": "code",
   "execution_count": null,
   "metadata": {},
   "outputs": [],
   "source": [
    "lr.fit(X_train_tf, y_train)"
   ]
  },
  {
   "cell_type": "code",
   "execution_count": null,
   "metadata": {},
   "outputs": [],
   "source": [
    "y_train_preds = lr.predict_proba(X_train_tf)[:,1]\n",
    "y_valid_preds = lr.predict_proba(X_valid_tf)[:,1]"
   ]
  },
  {
   "cell_type": "code",
   "execution_count": null,
   "metadata": {},
   "outputs": [],
   "source": [
    "print('Logistic Regression')\n",
    "print('Training:')\n",
    "lr_train_auc, lr_train_accuracy, lr_train_recall, \\\n",
    "    lr_train_precision, lr_train_specificity = print_report(y_train,y_train_preds, thresh)\n",
    "print('Validation:')\n",
    "lr_valid_auc, lr_valid_accuracy, lr_valid_recall, \\\n",
    "    lr_valid_precision, lr_valid_specificity = print_report(y_valid,y_valid_preds, thresh)"
   ]
  },
  {
   "cell_type": "code",
   "execution_count": null,
   "metadata": {
    "colab": {
     "base_uri": "https://localhost:8080/",
     "height": 119
    },
    "colab_type": "code",
    "id": "ntQQQ1xhupdC",
    "outputId": "22a5c6fe-ada6-4a72-b886-4a65ba9b8872"
   },
   "outputs": [],
   "source": [
    "from sklearn.linear_model import SGDClassifier\n",
    "SGDC = SGDClassifier(loss = 'log',alpha = 0.1)\n",
    "SGDC.fit(X_train_tf, y_train)\n",
    "\n",
    "y_train_preds = SGDC.predict_proba(X_train_tf)[:,1]\n",
    "y_valid_preds = SGDC.predict_proba(X_valid_tf)[:,1]\n",
    "\n",
    "print('SGDC')\n",
    "print('Training:')\n",
    "SGDC_train_auc, SGDC_train_accuracy, SGDC_train_recall, \\\n",
    "    SGDC_train_precision, SGDC_train_specificity = print_report(y_train,y_train_preds, thresh)\n",
    "print('Validation:')\n",
    "SGDC_valid_auc, SGDC_valid_accuracy, SGDC_valid_recall, \\\n",
    "    SGDC_valid_precision, SGDC_valid_specificity = print_report(y_valid,y_valid_preds, thresh)"
   ]
  },
  {
   "cell_type": "code",
   "execution_count": null,
   "metadata": {
    "colab": {
     "base_uri": "https://localhost:8080/",
     "height": 34
    },
    "colab_type": "code",
    "id": "3HHcjZzPvxfz",
    "outputId": "6c9d3676-ffcc-4bfa-f617-561e4fab643c"
   },
   "outputs": [],
   "source": [
    "from sklearn.naive_bayes import GaussianNB\n",
    "nb = GaussianNB()\n",
    "nb.fit(X_train_tf, y_train)\n",
    "\n",
    "y_train_preds = nb.predict_proba(X_train_tf)[:,1]\n",
    "y_valid_preds = nb.predict_proba(X_valid_tf)[:,1]\n",
    "\n",
    "print('Naive Bayes')\n",
    "print('Training:')\n",
    "nb_train_auc, nb_train_accuracy, nb_train_recall, nb_train_precision, \\\n",
    "nb_train_specificity =print_report(y_train,y_train_preds, thresh)\n",
    "print('Validation:')\n",
    "nb_valid_auc, nb_valid_accuracy, nb_valid_recall, nb_valid_precision, \\\n",
    "nb_valid_specificity = print_report(y_valid,y_valid_preds, thresh)"
   ]
  },
  {
   "cell_type": "code",
   "execution_count": null,
   "metadata": {
    "colab": {
     "base_uri": "https://localhost:8080/",
     "height": 119
    },
    "colab_type": "code",
    "id": "A1iZzPPWwYeo",
    "outputId": "f11afcaa-97e6-436e-c7b1-cad6101c06e9"
   },
   "outputs": [],
   "source": [
    "from sklearn.tree import DecisionTreeClassifier\n",
    "tree = DecisionTreeClassifier(max_depth = 10, random_state = 69)\n",
    "tree.fit(X_train_tf, y_train)"
   ]
  },
  {
   "cell_type": "code",
   "execution_count": null,
   "metadata": {},
   "outputs": [],
   "source": [
    "y_train_preds = tree.predict_proba(X_train_tf)[:,1]\n",
    "y_valid_preds = tree.predict_proba(X_valid_tf)[:,1]\n",
    "\n",
    "print('Decision Tree')\n",
    "print('Training:')\n",
    "tree_train_auc, tree_train_accuracy, tree_train_recall, tree_train_precision, \\\n",
    "tree_train_specificity =print_report(y_train,y_train_preds, thresh)\n",
    "print('Validation:')\n",
    "tree_valid_auc, tree_valid_accuracy, tree_valid_recall, tree_valid_precision, \\\n",
    "tree_valid_specificity = print_report(y_valid,y_valid_preds, thresh)"
   ]
  },
  {
   "cell_type": "code",
   "execution_count": null,
   "metadata": {
    "colab": {
     "base_uri": "https://localhost:8080/",
     "height": 190
    },
    "colab_type": "code",
    "id": "iP9rj89iw1gf",
    "outputId": "b9efe6e6-3851-4fcf-f4da-538b132f709b"
   },
   "outputs": [],
   "source": [
    "from sklearn.ensemble import RandomForestClassifier\n",
    "rf = RandomForestClassifier(max_depth = 6, random_state = 69)\n",
    "rf.fit(X_train_tf, y_train)\n",
    "\n",
    "y_train_preds = rf.predict_proba(X_train_tf)[:,1]\n",
    "y_valid_preds = rf.predict_proba(X_valid_tf)[:,1]\n",
    "\n",
    "print('Random Forest')\n",
    "print('Training:')\n",
    "rf_train_auc, rf_train_accuracy, rf_train_recall, rf_train_precision, \\\n",
    "rf_train_specificity =print_report(y_train,y_train_preds, thresh)\n",
    "print('Validation:')\n",
    "rf_valid_auc, rf_valid_accuracy, rf_valid_recall, rf_valid_precision, \\\n",
    "rf_valid_specificity = print_report(y_valid,y_valid_preds, thresh)"
   ]
  },
  {
   "cell_type": "code",
   "execution_count": null,
   "metadata": {
    "colab": {
     "base_uri": "https://localhost:8080/",
     "height": 187
    },
    "colab_type": "code",
    "id": "zyKjg8lEycY5",
    "outputId": "90fb933e-720a-459f-806f-c74974154cbe"
   },
   "outputs": [],
   "source": [
    "from sklearn.ensemble import GradientBoostingClassifier\n",
    "gbc = GradientBoostingClassifier(\n",
    "    n_estimators=100, learning_rate=1.0, max_depth=3, random_state=69)\n",
    "gbc.fit(X_train_tf, y_train)\n",
    "\n",
    "y_train_preds = gbc.predict_proba(X_train_tf)[:,1]\n",
    "y_valid_preds = gbc.predict_proba(X_valid_tf)[:,1]\n",
    "\n",
    "print('Gradient Boosting Classifier')\n",
    "print('Training:')\n",
    "gbc_train_auc, gbc_train_accuracy, gbc_train_recall, gbc_train_precision, \\\n",
    "gbc_train_specificity = print_report(y_train,y_train_preds, thresh)\n",
    "print('Validation:')\n",
    "gbc_valid_auc, gbc_valid_accuracy, gbc_valid_recall, gbc_valid_precision, \\\n",
    "gbc_valid_specificity = print_report(y_valid,y_valid_preds, thresh)                   "
   ]
  },
  {
   "cell_type": "code",
   "execution_count": null,
   "metadata": {},
   "outputs": [],
   "source": [
    "from sklearn.decomposition import PCA\n",
    "from sklearn.ensemble import ExtraTreesClassifier\n",
    "from sklearn.feature_selection import RFE\n",
    "from sklearn.model_selection import train_test_split\n",
    "from sklearn.pipeline import make_pipeline\n",
    "from sklearn.preprocessing import MinMaxScaler, StandardScaler"
   ]
  },
  {
   "cell_type": "code",
   "execution_count": null,
   "metadata": {},
   "outputs": [],
   "source": [
    "etc = ExtraTreesClassifier(bootstrap=False, criterion=\"entropy\", max_features=1.0,\n",
    "                           min_samples_leaf=3, min_samples_split=20, n_estimators=100)\n",
    "etc.fit(X_train_tf, y_train)\n",
    "\n",
    "y_train_preds = etc.predict_proba(X_train_tf)[:, 1]\n",
    "y_valid_preds = etc.predict_proba(X_valid_tf)[:, 1]\n",
    "\n",
    "print('Extra Trees Classifier')\n",
    "print('Training:')\n",
    "etc_train_auc, etc_train_accuracy, etc_train_recall, etc_train_precision, \\\n",
    "etc_train_specificity = print_report(y_train, y_train_preds, thresh)\n",
    "print('Validation:')\n",
    "etc_valid_auc, etc_valid_accuracy, etc_valid_recall, etc_valid_precision, \\\n",
    "etc_valid_specificity = print_report(y_valid, y_valid_preds, thresh)"
   ]
  },
  {
   "cell_type": "code",
   "execution_count": null,
   "metadata": {},
   "outputs": [],
   "source": [
    "from xgboost import XGBClassifier\n",
    "import xgboost as xgb\n",
    "xgbc = XGBClassifier()\n",
    "xgbc.fit(X_train_tf, y_train)\n",
    "\n",
    "y_train_preds = xgbc.predict_proba(X_train_tf)[:,1]\n",
    "y_valid_preds = xgbc.predict_proba(X_valid_tf)[:,1]\n",
    "\n",
    "print('Xtreme Gradient Boosting Classifier')\n",
    "print('Training:')\n",
    "xgbc_train_auc, xgbc_train_accuracy, xgbc_train_recall, xgbc_train_precision, \\\n",
    "xgbc_train_specificity = print_report(y_train,y_train_preds, thresh)\n",
    "print('Validation:')\n",
    "xgbc_valid_auc, xgbc_valid_accuracy, xgbc_valid_recall, xgbc_valid_precision, \\\n",
    "xgbc_valid_specificity = print_report(y_valid,y_valid_preds, thresh)"
   ]
  },
  {
   "cell_type": "code",
   "execution_count": null,
   "metadata": {},
   "outputs": [],
   "source": [
    "df_results = pd.DataFrame({'classifier':['KNN','KNN','LR','LR','SGD','SGD','NB','NB','DT','DT','RF','RF','GB','GB','XGBC','XGBC','ETC','ETC'],\n",
    "                           'data_set':['train','valid']*9,\n",
    "                          'auc':[knn_train_auc, knn_valid_auc,lr_train_auc,lr_valid_auc,sgdc_train_auc,sgdc_valid_auc,nb_train_auc,nb_valid_auc,tree_train_auc,tree_valid_auc,rf_train_auc,rf_valid_auc,gbc_train_auc,gbc_valid_auc,xgbc_train_auc,xgbc_valid_auc,etc_train_auc,etc_valid_auc],\n",
    "                           'accuracy':[knn_train_accuracy, knn_valid_accuracy,lr_train_accuracy,lr_valid_accuracy,sgdc_train_accuracy,sgdc_valid_accuracy,nb_train_accuracy,nb_valid_accuracy,tree_train_accuracy,tree_valid_accuracy,rf_train_accuracy,rf_valid_accuracy,gbc_train_accuracy,gbc_valid_accuracy,xgbc_train_accuracy,xgbc_valid_accuracy,etc_train_accuracy,etc_valid_accuracy],\n",
    "                          'recall':[knn_train_recall, knn_valid_recall,lr_train_recall,lr_valid_recall,sgdc_train_recall,sgdc_valid_recall,nb_train_recall,nb_valid_recall,tree_train_recall,tree_valid_recall,rf_train_recall,rf_valid_recall,gbc_train_recall,gbc_valid_recall,xgbc_train_recall,xgbc_valid_recall,etc_train_recall,etc_valid_recall],\n",
    "                          'precision':[knn_train_precision, knn_valid_precision,lr_train_precision,lr_valid_precision,sgdc_train_precision,sgdc_valid_precision,nb_train_precision,nb_valid_precision,tree_train_precision,tree_valid_precision,rf_train_precision,rf_valid_precision,gbc_train_precision,gbc_valid_precision,xgbc_train_precision,xgbc_valid_precision,etc_train_precision,etc_valid_precision],\n",
    "                          'specificity':[knn_train_specificity, knn_valid_specificity,lr_train_specificity,lr_valid_specificity,sgdc_train_specificity,sgdc_valid_specificity,nb_train_specificity,nb_valid_specificity,tree_train_specificity,tree_valid_specificity,rf_train_specificity,rf_valid_specificity,gbc_train_specificity,gbc_valid_specificity,xgbc_train_specificity,xgbc_valid_specificity,etc_train_specificity,etc_valid_specificity]})"
   ]
  },
  {
   "cell_type": "code",
   "execution_count": null,
   "metadata": {},
   "outputs": [],
   "source": [
    "import seaborn as sns\n",
    "import matplotlib.pyplot as plt\n",
    "%matplotlib inline\n",
    "sns.set(style=\"whitegrid\")"
   ]
  },
  {
   "cell_type": "code",
   "execution_count": null,
   "metadata": {},
   "outputs": [],
   "source": [
    "sns.set_style(\"whitegrid\")\n",
    "plt.figure(figsize=(16, 8))\n",
    "ax = sns.barplot(x = 'classifier', y = 'auc', hue = 'data_set', data = df_results)\n",
    "ax.set_xlabel('Classifier', fontsize = 15)\n",
    "ax.set_ylabel('AUC', fontsize = 15)\n",
    "ax.tick_params(labelsize = 15)\n",
    "\n",
    "plt.legend(bbox_to_anchor = (1.05, 1), loc = 2, borderaxespad = 0., fontsize = 15)\n",
    "Out[96]:\n",
    "<matplotlib.legend.Legend at 0x1a30eed4a8>"
   ]
  },
  {
   "cell_type": "code",
   "execution_count": null,
   "metadata": {},
   "outputs": [],
   "source": [
    "import time\n",
    "\n",
    "my_params =  np.arange(0.05, 1.01, 0.05) \n",
    "\n",
    "train_metrics = np.zeros(len(my_params))\n",
    "valid_metrics = np.zeros(len(my_params))\n",
    "\n",
    "t1 = time.time()\n",
    "for jj in range(len(my_params)):\n",
    "    my_param = my_params[jj]\n",
    "    \n",
    "    model = ExtraTreesClassifier(bootstrap=False, criterion=\"entropy\", max_features=my_param, min_samples_leaf=3, min_samples_split=20, n_estimators=100)\n",
    "    model.fit(X_train_tf, y_train)\n",
    "    \n",
    "    y_train_preds = model.predict_proba(X_train_tf)[:,1]\n",
    "    y_valid_preds = model.predict_proba(X_valid_tf)[:,1]\n",
    "\n",
    "    metric_train = roc_auc_score(y_train, y_train_preds) \n",
    "    metric_valid = roc_auc_score(y_valid, y_valid_preds) \n",
    "\n",
    "    train_metrics[jj] = metric_train\n",
    "    valid_metrics[jj] = metric_valid\n",
    "    \n",
    "    t2 = time.time()\n",
    "    print(my_param, t2-t1)\n",
    "    t1 = time.time()"
   ]
  },
  {
   "cell_type": "code",
   "execution_count": null,
   "metadata": {},
   "outputs": [],
   "source": [
    "import matplotlib.pyplot as plt\n",
    "\n",
    "plt.plot(my_params, train_metrics,'o-',label = 'train')\n",
    "plt.plot(my_params, valid_metrics,'o-',label = 'valid')\n",
    "\n",
    "plt.xlabel('Max Features') \n",
    "plt.ylabel('AUC')\n",
    "plt.title('Effect of # of Max Features on AUC') \n",
    "plt.legend()\n",
    "plt.show()"
   ]
  }
 ],
 "metadata": {
  "accelerator": "GPU",
  "colab": {
   "collapsed_sections": [],
   "machine_shape": "hm",
   "name": "58 Models analysis YP.ipynb",
   "provenance": []
  },
  "kernelspec": {
   "display_name": "Python 3",
   "language": "python",
   "name": "python3"
  },
  "language_info": {
   "codemirror_mode": {
    "name": "ipython",
    "version": 3
   },
   "file_extension": ".py",
   "mimetype": "text/x-python",
   "name": "python",
   "nbconvert_exporter": "python",
   "pygments_lexer": "ipython3",
   "version": "3.7.3"
  }
 },
 "nbformat": 4,
 "nbformat_minor": 1
}
