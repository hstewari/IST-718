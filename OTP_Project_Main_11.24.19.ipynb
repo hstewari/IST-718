{
 "cells": [
  {
   "cell_type": "code",
   "execution_count": 1,
   "metadata": {},
   "outputs": [
    {
     "data": {
      "text/html": [
       "<style>.container {width:90% !important;}</style>"
      ],
      "text/plain": [
       "<IPython.core.display.HTML object>"
      ]
     },
     "metadata": {},
     "output_type": "display_data"
    }
   ],
   "source": [
    "import pandas as pd\n",
    "import numpy as np\n",
    "import time\n",
    "pd.options.display.max_columns\n",
    "pd.options.display.max_rows\n",
    "import matplotlib.pyplot as plt\n",
    "import calendar\n",
    "%matplotlib inline\n",
    "plt.style.use('bmh')\n",
    "from IPython.core.display import display, HTML\n",
    "display(HTML(\"<style>.container {width:90% !important;}</style>\"))\n",
    "#import needed libraries & float format definition\n",
    "import unicodecsv\n",
    "import seaborn as sns\n",
    "import datetime as dt\n",
    "from scipy import stats\n",
    "from scipy.stats import norm\n",
    "pd.options.display.float_format = '{:.0f}'.format"
   ]
  },
  {
   "cell_type": "code",
   "execution_count": 2,
   "metadata": {},
   "outputs": [
    {
     "name": "stdout",
     "output_type": "stream",
     "text": [
      "Wall time: 40.3 s\n"
     ]
    },
    {
     "data": {
      "text/plain": [
       "(12771253, 60)"
      ]
     },
     "metadata": {},
     "output_type": "display_data"
    },
    {
     "data": {
      "text/html": [
       "<div>\n",
       "<style scoped>\n",
       "    .dataframe tbody tr th:only-of-type {\n",
       "        vertical-align: middle;\n",
       "    }\n",
       "\n",
       "    .dataframe tbody tr th {\n",
       "        vertical-align: top;\n",
       "    }\n",
       "\n",
       "    .dataframe thead th {\n",
       "        text-align: right;\n",
       "    }\n",
       "</style>\n",
       "<table border=\"1\" class=\"dataframe\">\n",
       "  <thead>\n",
       "    <tr style=\"text-align: right;\">\n",
       "      <th></th>\n",
       "      <th>YEAR</th>\n",
       "      <th>QUARTER</th>\n",
       "      <th>MONTH</th>\n",
       "      <th>DAY_OF_MONTH</th>\n",
       "      <th>DAY_OF_WEEK</th>\n",
       "      <th>FL_DATE</th>\n",
       "      <th>OP_UNIQUE_CARRIER</th>\n",
       "      <th>OP_CARRIER_AIRLINE_ID</th>\n",
       "      <th>OP_CARRIER</th>\n",
       "      <th>OP_CARRIER_FL_NUM</th>\n",
       "      <th>...</th>\n",
       "      <th>DISTANCE_GROUP</th>\n",
       "      <th>CARRIER_DELAY</th>\n",
       "      <th>WEATHER_DELAY</th>\n",
       "      <th>NAS_DELAY</th>\n",
       "      <th>SECURITY_DELAY</th>\n",
       "      <th>LATE_AIRCRAFT_DELAY</th>\n",
       "      <th>FIRST_DEP_TIME</th>\n",
       "      <th>TOTAL_ADD_GTIME</th>\n",
       "      <th>LONGEST_ADD_GTIME</th>\n",
       "      <th>Unnamed: 59</th>\n",
       "    </tr>\n",
       "  </thead>\n",
       "  <tbody>\n",
       "    <tr>\n",
       "      <th>0</th>\n",
       "      <td>2018</td>\n",
       "      <td>4</td>\n",
       "      <td>10</td>\n",
       "      <td>1</td>\n",
       "      <td>1</td>\n",
       "      <td>2018-10-01</td>\n",
       "      <td>WN</td>\n",
       "      <td>19393</td>\n",
       "      <td>WN</td>\n",
       "      <td>802</td>\n",
       "      <td>...</td>\n",
       "      <td>7</td>\n",
       "      <td>nan</td>\n",
       "      <td>nan</td>\n",
       "      <td>nan</td>\n",
       "      <td>nan</td>\n",
       "      <td>nan</td>\n",
       "      <td>nan</td>\n",
       "      <td>nan</td>\n",
       "      <td>nan</td>\n",
       "      <td>nan</td>\n",
       "    </tr>\n",
       "    <tr>\n",
       "      <th>1</th>\n",
       "      <td>2018</td>\n",
       "      <td>4</td>\n",
       "      <td>10</td>\n",
       "      <td>1</td>\n",
       "      <td>1</td>\n",
       "      <td>2018-10-01</td>\n",
       "      <td>WN</td>\n",
       "      <td>19393</td>\n",
       "      <td>WN</td>\n",
       "      <td>3744</td>\n",
       "      <td>...</td>\n",
       "      <td>7</td>\n",
       "      <td>nan</td>\n",
       "      <td>nan</td>\n",
       "      <td>nan</td>\n",
       "      <td>nan</td>\n",
       "      <td>nan</td>\n",
       "      <td>nan</td>\n",
       "      <td>nan</td>\n",
       "      <td>nan</td>\n",
       "      <td>nan</td>\n",
       "    </tr>\n",
       "    <tr>\n",
       "      <th>2</th>\n",
       "      <td>2018</td>\n",
       "      <td>4</td>\n",
       "      <td>10</td>\n",
       "      <td>1</td>\n",
       "      <td>1</td>\n",
       "      <td>2018-10-01</td>\n",
       "      <td>WN</td>\n",
       "      <td>19393</td>\n",
       "      <td>WN</td>\n",
       "      <td>1019</td>\n",
       "      <td>...</td>\n",
       "      <td>3</td>\n",
       "      <td>nan</td>\n",
       "      <td>nan</td>\n",
       "      <td>nan</td>\n",
       "      <td>nan</td>\n",
       "      <td>nan</td>\n",
       "      <td>nan</td>\n",
       "      <td>nan</td>\n",
       "      <td>nan</td>\n",
       "      <td>nan</td>\n",
       "    </tr>\n",
       "    <tr>\n",
       "      <th>3</th>\n",
       "      <td>2018</td>\n",
       "      <td>4</td>\n",
       "      <td>10</td>\n",
       "      <td>1</td>\n",
       "      <td>1</td>\n",
       "      <td>2018-10-01</td>\n",
       "      <td>WN</td>\n",
       "      <td>19393</td>\n",
       "      <td>WN</td>\n",
       "      <td>1499</td>\n",
       "      <td>...</td>\n",
       "      <td>3</td>\n",
       "      <td>nan</td>\n",
       "      <td>nan</td>\n",
       "      <td>nan</td>\n",
       "      <td>nan</td>\n",
       "      <td>nan</td>\n",
       "      <td>nan</td>\n",
       "      <td>nan</td>\n",
       "      <td>nan</td>\n",
       "      <td>nan</td>\n",
       "    </tr>\n",
       "    <tr>\n",
       "      <th>4</th>\n",
       "      <td>2018</td>\n",
       "      <td>4</td>\n",
       "      <td>10</td>\n",
       "      <td>1</td>\n",
       "      <td>1</td>\n",
       "      <td>2018-10-01</td>\n",
       "      <td>WN</td>\n",
       "      <td>19393</td>\n",
       "      <td>WN</td>\n",
       "      <td>3635</td>\n",
       "      <td>...</td>\n",
       "      <td>3</td>\n",
       "      <td>nan</td>\n",
       "      <td>nan</td>\n",
       "      <td>nan</td>\n",
       "      <td>nan</td>\n",
       "      <td>nan</td>\n",
       "      <td>nan</td>\n",
       "      <td>nan</td>\n",
       "      <td>nan</td>\n",
       "      <td>nan</td>\n",
       "    </tr>\n",
       "  </tbody>\n",
       "</table>\n",
       "<p>5 rows × 60 columns</p>\n",
       "</div>"
      ],
      "text/plain": [
       "   YEAR  QUARTER  MONTH  DAY_OF_MONTH  DAY_OF_WEEK     FL_DATE  \\\n",
       "0  2018        4     10             1            1  2018-10-01   \n",
       "1  2018        4     10             1            1  2018-10-01   \n",
       "2  2018        4     10             1            1  2018-10-01   \n",
       "3  2018        4     10             1            1  2018-10-01   \n",
       "4  2018        4     10             1            1  2018-10-01   \n",
       "\n",
       "  OP_UNIQUE_CARRIER  OP_CARRIER_AIRLINE_ID OP_CARRIER  OP_CARRIER_FL_NUM  \\\n",
       "0                WN                  19393         WN                802   \n",
       "1                WN                  19393         WN               3744   \n",
       "2                WN                  19393         WN               1019   \n",
       "3                WN                  19393         WN               1499   \n",
       "4                WN                  19393         WN               3635   \n",
       "\n",
       "      ...       DISTANCE_GROUP  CARRIER_DELAY  WEATHER_DELAY NAS_DELAY  \\\n",
       "0     ...                    7            nan            nan       nan   \n",
       "1     ...                    7            nan            nan       nan   \n",
       "2     ...                    3            nan            nan       nan   \n",
       "3     ...                    3            nan            nan       nan   \n",
       "4     ...                    3            nan            nan       nan   \n",
       "\n",
       "  SECURITY_DELAY LATE_AIRCRAFT_DELAY FIRST_DEP_TIME  TOTAL_ADD_GTIME  \\\n",
       "0            nan                 nan            nan              nan   \n",
       "1            nan                 nan            nan              nan   \n",
       "2            nan                 nan            nan              nan   \n",
       "3            nan                 nan            nan              nan   \n",
       "4            nan                 nan            nan              nan   \n",
       "\n",
       "   LONGEST_ADD_GTIME  Unnamed: 59  \n",
       "0                nan          nan  \n",
       "1                nan          nan  \n",
       "2                nan          nan  \n",
       "3                nan          nan  \n",
       "4                nan          nan  \n",
       "\n",
       "[5 rows x 60 columns]"
      ]
     },
     "metadata": {},
     "output_type": "display_data"
    },
    {
     "name": "stdout",
     "output_type": "stream",
     "text": [
      "<class 'pandas.core.frame.DataFrame'>\n",
      "RangeIndex: 12771253 entries, 0 to 12771252\n",
      "Data columns (total 60 columns):\n",
      "YEAR                     int64\n",
      "QUARTER                  int64\n",
      "MONTH                    int64\n",
      "DAY_OF_MONTH             int64\n",
      "DAY_OF_WEEK              int64\n",
      "FL_DATE                  object\n",
      "OP_UNIQUE_CARRIER        object\n",
      "OP_CARRIER_AIRLINE_ID    int64\n",
      "OP_CARRIER               object\n",
      "OP_CARRIER_FL_NUM        int64\n",
      "ORIGIN_AIRPORT_ID        int64\n",
      "ORIGIN_AIRPORT_SEQ_ID    int64\n",
      "ORIGIN_CITY_MARKET_ID    int64\n",
      "ORIGIN                   object\n",
      "ORIGIN_CITY_NAME         object\n",
      "ORIGIN_STATE_ABR         object\n",
      "ORIGIN_STATE_NM          object\n",
      "DEST_AIRPORT_ID          int64\n",
      "DEST_AIRPORT_SEQ_ID      int64\n",
      "DEST_CITY_MARKET_ID      int64\n",
      "DEST                     object\n",
      "DEST_CITY_NAME           object\n",
      "DEST_STATE_ABR           object\n",
      "DEST_STATE_NM            object\n",
      "CRS_DEP_TIME             int64\n",
      "DEP_TIME                 float64\n",
      "DEP_DELAY                float64\n",
      "DEP_DELAY_NEW            float64\n",
      "DEP_DEL15                float64\n",
      "DEP_DELAY_GROUP          float64\n",
      "DEP_TIME_BLK             object\n",
      "TAXI_OUT                 float64\n",
      "WHEELS_OFF               float64\n",
      "WHEELS_ON                float64\n",
      "TAXI_IN                  float64\n",
      "CRS_ARR_TIME             int64\n",
      "ARR_TIME                 float64\n",
      "ARR_DELAY                float64\n",
      "ARR_DELAY_NEW            float64\n",
      "ARR_DEL15                float64\n",
      "ARR_DELAY_GROUP          float64\n",
      "ARR_TIME_BLK             object\n",
      "CANCELLED                float64\n",
      "CANCELLATION_CODE        object\n",
      "DIVERTED                 float64\n",
      "CRS_ELAPSED_TIME         float64\n",
      "ACTUAL_ELAPSED_TIME      float64\n",
      "AIR_TIME                 float64\n",
      "FLIGHTS                  float64\n",
      "DISTANCE                 float64\n",
      "DISTANCE_GROUP           int64\n",
      "CARRIER_DELAY            float64\n",
      "WEATHER_DELAY            float64\n",
      "NAS_DELAY                float64\n",
      "SECURITY_DELAY           float64\n",
      "LATE_AIRCRAFT_DELAY      float64\n",
      "FIRST_DEP_TIME           float64\n",
      "TOTAL_ADD_GTIME          float64\n",
      "LONGEST_ADD_GTIME        float64\n",
      "Unnamed: 59              float64\n",
      "dtypes: float64(30), int64(16), object(14)\n",
      "memory usage: 5.7+ GB\n"
     ]
    },
    {
     "data": {
      "text/plain": [
       "None"
      ]
     },
     "metadata": {},
     "output_type": "display_data"
    }
   ],
   "source": [
    "%time df = pd.read_pickle('OTP_11.17.19.pkl') #import data\n",
    "display(df.shape)\n",
    "display(df.head())\n",
    "display(df.info())"
   ]
  },
  {
   "cell_type": "code",
   "execution_count": 3,
   "metadata": {},
   "outputs": [
    {
     "data": {
      "text/plain": [
       "array([2018, 2019], dtype=int64)"
      ]
     },
     "execution_count": 3,
     "metadata": {},
     "output_type": "execute_result"
    }
   ],
   "source": [
    "#Remove white space from columns and check columns\n",
    "df.columns = df.columns.str.strip()\n",
    "df.YEAR.unique()"
   ]
  },
  {
   "cell_type": "code",
   "execution_count": 4,
   "metadata": {},
   "outputs": [
    {
     "name": "stdout",
     "output_type": "stream",
     "text": [
      "Wall time: 1min 43s\n",
      "Wall time: 19.1 s\n"
     ]
    },
    {
     "data": {
      "text/plain": [
       "array(['Oct_2018', 'Nov_2018', 'Dec_2018', 'Jan_2019', 'Feb_2019',\n",
       "       'Mar_2019', 'Apr_2019', 'May_2019', 'Jun_2019', 'Jul_2019',\n",
       "       'Jan_2018', 'Aug_2019', 'Sep_2019', 'Feb_2018', 'Mar_2018',\n",
       "       'Apr_2018', 'May_2018', 'Jun_2018', 'Jul_2018', 'Aug_2018',\n",
       "       'Sep_2018'], dtype=object)"
      ]
     },
     "execution_count": 4,
     "metadata": {},
     "output_type": "execute_result"
    }
   ],
   "source": [
    "#drop empty column and add Month_year column to check import data set\n",
    "df = df[df.columns.drop('Unnamed: 59')] # drop unnamed columns\n",
    "##\n",
    "%time df['Monthd'] = df['MONTH'].apply(lambda x: calendar.month_abbr[x]) # Create a column with month description in text\n",
    "\n",
    "#Larger data sets (> 150rows), use below\n",
    "%time df['MY'] = df['Monthd'].astype(str) + '_' + df['YEAR'].astype(str) # combine new colum with YEAR column\n",
    "\n",
    "df.MY.unique() # check to make sure all months are imported into dataframe"
   ]
  },
  {
   "cell_type": "code",
   "execution_count": 5,
   "metadata": {},
   "outputs": [
    {
     "name": "stdout",
     "output_type": "stream",
     "text": [
      "Wall time: 28.8 s\n",
      "Wall time: 9.8 s\n"
     ]
    },
    {
     "data": {
      "text/plain": [
       "DEP_TIME                 227753\n",
       "DEP_DELAY                232693\n",
       "DEP_DELAY_NEW            232693\n",
       "DEP_DEL15                232693\n",
       "DEP_DELAY_GROUP          232693\n",
       "TAXI_OUT                 234632\n",
       "WHEELS_OFF               234631\n",
       "WHEELS_ON                240919\n",
       "TAXI_IN                  240919\n",
       "ARR_TIME                 240917\n",
       "ARR_DELAY                271971\n",
       "ARR_DELAY_NEW            271971\n",
       "ARR_DEL15                271971\n",
       "ARR_DELAY_GROUP          271971\n",
       "CANCELLATION_CODE      12535155\n",
       "CRS_ELAPSED_TIME            145\n",
       "ACTUAL_ELAPSED_TIME      269373\n",
       "AIR_TIME                 269373\n",
       "CARRIER_DELAY          10346932\n",
       "WEATHER_DELAY          10346932\n",
       "NAS_DELAY              10346932\n",
       "SECURITY_DELAY         10346932\n",
       "LATE_AIRCRAFT_DELAY    10346932\n",
       "FIRST_DEP_TIME         12684061\n",
       "TOTAL_ADD_GTIME        12684063\n",
       "LONGEST_ADD_GTIME      12684063\n",
       "dtype: int64"
      ]
     },
     "execution_count": 5,
     "metadata": {},
     "output_type": "execute_result"
    }
   ],
   "source": [
    "# check to look at NANs\n",
    "%time null_columns=df.columns[df.isnull().any()]\n",
    "\n",
    "#null_columns\n",
    "%time df[null_columns].isnull().sum()"
   ]
  },
  {
   "cell_type": "code",
   "execution_count": 6,
   "metadata": {
    "scrolled": false
   },
   "outputs": [
    {
     "name": "stdout",
     "output_type": "stream",
     "text": [
      "Wall time: 17.6 s\n",
      "Wall time: 0 ns\n"
     ]
    },
    {
     "data": {
      "text/plain": [
       "YEAR                     0\n",
       "QUARTER                  0\n",
       "MONTH                    0\n",
       "DAY_OF_MONTH             0\n",
       "DAY_OF_WEEK              0\n",
       "FL_DATE                  0\n",
       "OP_UNIQUE_CARRIER        0\n",
       "OP_CARRIER_AIRLINE_ID    0\n",
       "OP_CARRIER               0\n",
       "OP_CARRIER_FL_NUM        0\n",
       "ORIGIN_AIRPORT_ID        0\n",
       "ORIGIN_AIRPORT_SEQ_ID    0\n",
       "ORIGIN_CITY_MARKET_ID    0\n",
       "ORIGIN                   0\n",
       "ORIGIN_CITY_NAME         0\n",
       "ORIGIN_STATE_ABR         0\n",
       "ORIGIN_STATE_NM          0\n",
       "DEST_AIRPORT_ID          0\n",
       "DEST_AIRPORT_SEQ_ID      0\n",
       "DEST_CITY_MARKET_ID      0\n",
       "DEST                     0\n",
       "DEST_CITY_NAME           0\n",
       "DEST_STATE_ABR           0\n",
       "DEST_STATE_NM            0\n",
       "CRS_DEP_TIME             0\n",
       "DEP_TIME                 2\n",
       "DEP_DELAY                2\n",
       "DEP_DELAY_NEW            2\n",
       "DEP_DEL15                2\n",
       "DEP_DELAY_GROUP          2\n",
       "                        ..\n",
       "TAXI_OUT                 2\n",
       "WHEELS_OFF               2\n",
       "WHEELS_ON                2\n",
       "TAXI_IN                  2\n",
       "CRS_ARR_TIME             0\n",
       "ARR_TIME                 2\n",
       "ARR_DELAY                2\n",
       "ARR_DELAY_NEW            2\n",
       "ARR_DEL15                2\n",
       "ARR_DELAY_GROUP          2\n",
       "ARR_TIME_BLK             0\n",
       "CANCELLED                0\n",
       "CANCELLATION_CODE       98\n",
       "DIVERTED                 0\n",
       "CRS_ELAPSED_TIME         0\n",
       "ACTUAL_ELAPSED_TIME      2\n",
       "AIR_TIME                 2\n",
       "FLIGHTS                  0\n",
       "DISTANCE                 0\n",
       "DISTANCE_GROUP           0\n",
       "CARRIER_DELAY           81\n",
       "WEATHER_DELAY           81\n",
       "NAS_DELAY               81\n",
       "SECURITY_DELAY          81\n",
       "LATE_AIRCRAFT_DELAY     81\n",
       "FIRST_DEP_TIME          99\n",
       "TOTAL_ADD_GTIME         99\n",
       "LONGEST_ADD_GTIME       99\n",
       "Monthd                   0\n",
       "MY                       0\n",
       "Length: 61, dtype: float64"
      ]
     },
     "execution_count": 6,
     "metadata": {},
     "output_type": "execute_result"
    }
   ],
   "source": [
    "#Percentage of missing values in each column within the dataset\n",
    "%time percent_missing = round(df.isnull().mean()*100,2) \n",
    "%time percent_missing"
   ]
  },
  {
   "cell_type": "code",
   "execution_count": 7,
   "metadata": {},
   "outputs": [
    {
     "name": "stdout",
     "output_type": "stream",
     "text": [
      "Wall time: 6.45 s\n"
     ]
    }
   ],
   "source": [
    "%time  df_original = df.copy() #created a copy of original df with all variables prior to reducing columns based on missing values"
   ]
  },
  {
   "cell_type": "code",
   "execution_count": 8,
   "metadata": {},
   "outputs": [
    {
     "name": "stdout",
     "output_type": "stream",
     "text": [
      "Wall time: 26.4 s\n",
      "Wall time: 1.98 ms\n",
      "Wall time: 9.21 s\n"
     ]
    }
   ],
   "source": [
    "#Calculate the percent of values in a column with missing values. \n",
    "#From those columns, filter out the features with more than 80% NULL values and then drop those columns from the DataFrame.\n",
    "%time pct_null = df.isnull().sum() / len(df)\n",
    "%time missing_features = pct_null[pct_null > 0.99].index\n",
    "%time df.drop(missing_features, axis=1, inplace=True)"
   ]
  },
  {
   "cell_type": "code",
   "execution_count": 9,
   "metadata": {
    "scrolled": false
   },
   "outputs": [
    {
     "name": "stdout",
     "output_type": "stream",
     "text": [
      "Wall time: 18.3 s\n"
     ]
    },
    {
     "data": {
      "text/plain": [
       "(12771253, 58)"
      ]
     },
     "metadata": {},
     "output_type": "display_data"
    },
    {
     "name": "stdout",
     "output_type": "stream",
     "text": [
      "Wall time: 0 ns\n"
     ]
    },
    {
     "data": {
      "text/plain": [
       "YEAR                     0\n",
       "QUARTER                  0\n",
       "MONTH                    0\n",
       "DAY_OF_MONTH             0\n",
       "DAY_OF_WEEK              0\n",
       "FL_DATE                  0\n",
       "OP_UNIQUE_CARRIER        0\n",
       "OP_CARRIER_AIRLINE_ID    0\n",
       "OP_CARRIER               0\n",
       "OP_CARRIER_FL_NUM        0\n",
       "ORIGIN_AIRPORT_ID        0\n",
       "ORIGIN_AIRPORT_SEQ_ID    0\n",
       "ORIGIN_CITY_MARKET_ID    0\n",
       "ORIGIN                   0\n",
       "ORIGIN_CITY_NAME         0\n",
       "ORIGIN_STATE_ABR         0\n",
       "ORIGIN_STATE_NM          0\n",
       "DEST_AIRPORT_ID          0\n",
       "DEST_AIRPORT_SEQ_ID      0\n",
       "DEST_CITY_MARKET_ID      0\n",
       "DEST                     0\n",
       "DEST_CITY_NAME           0\n",
       "DEST_STATE_ABR           0\n",
       "DEST_STATE_NM            0\n",
       "CRS_DEP_TIME             0\n",
       "DEP_TIME                 2\n",
       "DEP_DELAY                2\n",
       "DEP_DELAY_NEW            2\n",
       "DEP_DEL15                2\n",
       "DEP_DELAY_GROUP          2\n",
       "DEP_TIME_BLK             0\n",
       "TAXI_OUT                 2\n",
       "WHEELS_OFF               2\n",
       "WHEELS_ON                2\n",
       "TAXI_IN                  2\n",
       "CRS_ARR_TIME             0\n",
       "ARR_TIME                 2\n",
       "ARR_DELAY                2\n",
       "ARR_DELAY_NEW            2\n",
       "ARR_DEL15                2\n",
       "ARR_DELAY_GROUP          2\n",
       "ARR_TIME_BLK             0\n",
       "CANCELLED                0\n",
       "CANCELLATION_CODE       98\n",
       "DIVERTED                 0\n",
       "CRS_ELAPSED_TIME         0\n",
       "ACTUAL_ELAPSED_TIME      2\n",
       "AIR_TIME                 2\n",
       "FLIGHTS                  0\n",
       "DISTANCE                 0\n",
       "DISTANCE_GROUP           0\n",
       "CARRIER_DELAY           81\n",
       "WEATHER_DELAY           81\n",
       "NAS_DELAY               81\n",
       "SECURITY_DELAY          81\n",
       "LATE_AIRCRAFT_DELAY     81\n",
       "Monthd                   0\n",
       "MY                       0\n",
       "dtype: float64"
      ]
     },
     "execution_count": 9,
     "metadata": {},
     "output_type": "execute_result"
    }
   ],
   "source": [
    "#Percentage of missing values in each column within the dataset\n",
    "%time percent_missing2 = round(df.isnull().mean()*100,2) \n",
    "display(df.shape)\n",
    "%time percent_missing2"
   ]
  },
  {
   "cell_type": "code",
   "execution_count": 10,
   "metadata": {
    "scrolled": true
   },
   "outputs": [
    {
     "data": {
      "text/plain": [
       "YEAR                     0\n",
       "QUARTER                  0\n",
       "MONTH                    0\n",
       "DAY_OF_MONTH             0\n",
       "DAY_OF_WEEK              0\n",
       "FL_DATE                  0\n",
       "OP_UNIQUE_CARRIER        0\n",
       "OP_CARRIER_AIRLINE_ID    0\n",
       "OP_CARRIER               0\n",
       "OP_CARRIER_FL_NUM        0\n",
       "ORIGIN_AIRPORT_ID        0\n",
       "ORIGIN_AIRPORT_SEQ_ID    0\n",
       "ORIGIN_CITY_MARKET_ID    0\n",
       "ORIGIN                   0\n",
       "ORIGIN_CITY_NAME         0\n",
       "ORIGIN_STATE_ABR         0\n",
       "ORIGIN_STATE_NM          0\n",
       "DEST_AIRPORT_ID          0\n",
       "DEST_AIRPORT_SEQ_ID      0\n",
       "DEST_CITY_MARKET_ID      0\n",
       "DEST                     0\n",
       "DEST_CITY_NAME           0\n",
       "DEST_STATE_ABR           0\n",
       "DEST_STATE_NM            0\n",
       "CRS_DEP_TIME             0\n",
       "DEP_TIME                 2\n",
       "DEP_DELAY                2\n",
       "DEP_DELAY_NEW            2\n",
       "DEP_DEL15                2\n",
       "DEP_DELAY_GROUP          2\n",
       "DEP_TIME_BLK             0\n",
       "TAXI_OUT                 2\n",
       "WHEELS_OFF               2\n",
       "WHEELS_ON                2\n",
       "TAXI_IN                  2\n",
       "CRS_ARR_TIME             0\n",
       "ARR_TIME                 2\n",
       "ARR_DELAY                2\n",
       "ARR_DELAY_NEW            2\n",
       "ARR_DEL15                2\n",
       "ARR_DELAY_GROUP          2\n",
       "ARR_TIME_BLK             0\n",
       "CANCELLED                0\n",
       "CANCELLATION_CODE       98\n",
       "DIVERTED                 0\n",
       "CRS_ELAPSED_TIME         0\n",
       "ACTUAL_ELAPSED_TIME      2\n",
       "AIR_TIME                 2\n",
       "FLIGHTS                  0\n",
       "DISTANCE                 0\n",
       "DISTANCE_GROUP           0\n",
       "CARRIER_DELAY           81\n",
       "WEATHER_DELAY           81\n",
       "NAS_DELAY               81\n",
       "SECURITY_DELAY          81\n",
       "LATE_AIRCRAFT_DELAY     81\n",
       "Monthd                   0\n",
       "MY                       0\n",
       "dtype: float64"
      ]
     },
     "execution_count": 10,
     "metadata": {},
     "output_type": "execute_result"
    }
   ],
   "source": [
    "round(df.isnull().mean()*100,2) "
   ]
  },
  {
   "cell_type": "code",
   "execution_count": 11,
   "metadata": {},
   "outputs": [
    {
     "data": {
      "text/html": [
       "<div>\n",
       "<style scoped>\n",
       "    .dataframe tbody tr th:only-of-type {\n",
       "        vertical-align: middle;\n",
       "    }\n",
       "\n",
       "    .dataframe tbody tr th {\n",
       "        vertical-align: top;\n",
       "    }\n",
       "\n",
       "    .dataframe thead th {\n",
       "        text-align: right;\n",
       "    }\n",
       "</style>\n",
       "<table border=\"1\" class=\"dataframe\">\n",
       "  <thead>\n",
       "    <tr style=\"text-align: right;\">\n",
       "      <th></th>\n",
       "      <th>YEAR</th>\n",
       "      <th>QUARTER</th>\n",
       "      <th>MONTH</th>\n",
       "      <th>DAY_OF_MONTH</th>\n",
       "      <th>DAY_OF_WEEK</th>\n",
       "      <th>FL_DATE</th>\n",
       "      <th>OP_UNIQUE_CARRIER</th>\n",
       "      <th>OP_CARRIER_AIRLINE_ID</th>\n",
       "      <th>OP_CARRIER</th>\n",
       "      <th>OP_CARRIER_FL_NUM</th>\n",
       "      <th>...</th>\n",
       "      <th>FLIGHTS</th>\n",
       "      <th>DISTANCE</th>\n",
       "      <th>DISTANCE_GROUP</th>\n",
       "      <th>CARRIER_DELAY</th>\n",
       "      <th>WEATHER_DELAY</th>\n",
       "      <th>NAS_DELAY</th>\n",
       "      <th>SECURITY_DELAY</th>\n",
       "      <th>LATE_AIRCRAFT_DELAY</th>\n",
       "      <th>Monthd</th>\n",
       "      <th>MY</th>\n",
       "    </tr>\n",
       "  </thead>\n",
       "  <tbody>\n",
       "    <tr>\n",
       "      <th>0</th>\n",
       "      <td>2018</td>\n",
       "      <td>4</td>\n",
       "      <td>10</td>\n",
       "      <td>1</td>\n",
       "      <td>1</td>\n",
       "      <td>2018-10-01</td>\n",
       "      <td>WN</td>\n",
       "      <td>19393</td>\n",
       "      <td>WN</td>\n",
       "      <td>802</td>\n",
       "      <td>...</td>\n",
       "      <td>1</td>\n",
       "      <td>1670</td>\n",
       "      <td>7</td>\n",
       "      <td>nan</td>\n",
       "      <td>nan</td>\n",
       "      <td>nan</td>\n",
       "      <td>nan</td>\n",
       "      <td>nan</td>\n",
       "      <td>Oct</td>\n",
       "      <td>Oct_2018</td>\n",
       "    </tr>\n",
       "    <tr>\n",
       "      <th>1</th>\n",
       "      <td>2018</td>\n",
       "      <td>4</td>\n",
       "      <td>10</td>\n",
       "      <td>1</td>\n",
       "      <td>1</td>\n",
       "      <td>2018-10-01</td>\n",
       "      <td>WN</td>\n",
       "      <td>19393</td>\n",
       "      <td>WN</td>\n",
       "      <td>3744</td>\n",
       "      <td>...</td>\n",
       "      <td>1</td>\n",
       "      <td>1670</td>\n",
       "      <td>7</td>\n",
       "      <td>nan</td>\n",
       "      <td>nan</td>\n",
       "      <td>nan</td>\n",
       "      <td>nan</td>\n",
       "      <td>nan</td>\n",
       "      <td>Oct</td>\n",
       "      <td>Oct_2018</td>\n",
       "    </tr>\n",
       "    <tr>\n",
       "      <th>2</th>\n",
       "      <td>2018</td>\n",
       "      <td>4</td>\n",
       "      <td>10</td>\n",
       "      <td>1</td>\n",
       "      <td>1</td>\n",
       "      <td>2018-10-01</td>\n",
       "      <td>WN</td>\n",
       "      <td>19393</td>\n",
       "      <td>WN</td>\n",
       "      <td>1019</td>\n",
       "      <td>...</td>\n",
       "      <td>1</td>\n",
       "      <td>580</td>\n",
       "      <td>3</td>\n",
       "      <td>nan</td>\n",
       "      <td>nan</td>\n",
       "      <td>nan</td>\n",
       "      <td>nan</td>\n",
       "      <td>nan</td>\n",
       "      <td>Oct</td>\n",
       "      <td>Oct_2018</td>\n",
       "    </tr>\n",
       "    <tr>\n",
       "      <th>3</th>\n",
       "      <td>2018</td>\n",
       "      <td>4</td>\n",
       "      <td>10</td>\n",
       "      <td>1</td>\n",
       "      <td>1</td>\n",
       "      <td>2018-10-01</td>\n",
       "      <td>WN</td>\n",
       "      <td>19393</td>\n",
       "      <td>WN</td>\n",
       "      <td>1499</td>\n",
       "      <td>...</td>\n",
       "      <td>1</td>\n",
       "      <td>580</td>\n",
       "      <td>3</td>\n",
       "      <td>nan</td>\n",
       "      <td>nan</td>\n",
       "      <td>nan</td>\n",
       "      <td>nan</td>\n",
       "      <td>nan</td>\n",
       "      <td>Oct</td>\n",
       "      <td>Oct_2018</td>\n",
       "    </tr>\n",
       "    <tr>\n",
       "      <th>4</th>\n",
       "      <td>2018</td>\n",
       "      <td>4</td>\n",
       "      <td>10</td>\n",
       "      <td>1</td>\n",
       "      <td>1</td>\n",
       "      <td>2018-10-01</td>\n",
       "      <td>WN</td>\n",
       "      <td>19393</td>\n",
       "      <td>WN</td>\n",
       "      <td>3635</td>\n",
       "      <td>...</td>\n",
       "      <td>1</td>\n",
       "      <td>580</td>\n",
       "      <td>3</td>\n",
       "      <td>nan</td>\n",
       "      <td>nan</td>\n",
       "      <td>nan</td>\n",
       "      <td>nan</td>\n",
       "      <td>nan</td>\n",
       "      <td>Oct</td>\n",
       "      <td>Oct_2018</td>\n",
       "    </tr>\n",
       "  </tbody>\n",
       "</table>\n",
       "<p>5 rows × 58 columns</p>\n",
       "</div>"
      ],
      "text/plain": [
       "   YEAR  QUARTER  MONTH  DAY_OF_MONTH  DAY_OF_WEEK     FL_DATE  \\\n",
       "0  2018        4     10             1            1  2018-10-01   \n",
       "1  2018        4     10             1            1  2018-10-01   \n",
       "2  2018        4     10             1            1  2018-10-01   \n",
       "3  2018        4     10             1            1  2018-10-01   \n",
       "4  2018        4     10             1            1  2018-10-01   \n",
       "\n",
       "  OP_UNIQUE_CARRIER  OP_CARRIER_AIRLINE_ID OP_CARRIER  OP_CARRIER_FL_NUM  \\\n",
       "0                WN                  19393         WN                802   \n",
       "1                WN                  19393         WN               3744   \n",
       "2                WN                  19393         WN               1019   \n",
       "3                WN                  19393         WN               1499   \n",
       "4                WN                  19393         WN               3635   \n",
       "\n",
       "     ...     FLIGHTS  DISTANCE  DISTANCE_GROUP CARRIER_DELAY WEATHER_DELAY  \\\n",
       "0    ...           1      1670               7           nan           nan   \n",
       "1    ...           1      1670               7           nan           nan   \n",
       "2    ...           1       580               3           nan           nan   \n",
       "3    ...           1       580               3           nan           nan   \n",
       "4    ...           1       580               3           nan           nan   \n",
       "\n",
       "  NAS_DELAY SECURITY_DELAY  LATE_AIRCRAFT_DELAY  Monthd        MY  \n",
       "0       nan            nan                  nan     Oct  Oct_2018  \n",
       "1       nan            nan                  nan     Oct  Oct_2018  \n",
       "2       nan            nan                  nan     Oct  Oct_2018  \n",
       "3       nan            nan                  nan     Oct  Oct_2018  \n",
       "4       nan            nan                  nan     Oct  Oct_2018  \n",
       "\n",
       "[5 rows x 58 columns]"
      ]
     },
     "execution_count": 11,
     "metadata": {},
     "output_type": "execute_result"
    }
   ],
   "source": [
    "df.head()"
   ]
  },
  {
   "cell_type": "code",
   "execution_count": 12,
   "metadata": {},
   "outputs": [
    {
     "data": {
      "text/plain": [
       "(12771253, 58)"
      ]
     },
     "execution_count": 12,
     "metadata": {},
     "output_type": "execute_result"
    }
   ],
   "source": [
    "#Exploring data\n",
    "#df.iloc[200:215] # few rows of dataframe\n",
    "#df.iloc[:,42:57] # last few column of data frame \n",
    "#https://www.shanelynn.ie/select-pandas-dataframe-rows-and-columns-using-iloc-loc-and-ix/\n",
    "df.shape"
   ]
  },
  {
   "cell_type": "code",
   "execution_count": 13,
   "metadata": {
    "scrolled": true
   },
   "outputs": [
    {
     "name": "stdout",
     "output_type": "stream",
     "text": [
      "Wall time: 6.28 s\n"
     ]
    },
    {
     "data": {
      "text/plain": [
       "(12771253, 58)"
      ]
     },
     "execution_count": 13,
     "metadata": {},
     "output_type": "execute_result"
    }
   ],
   "source": [
    "%time df_mod = df.copy() # create df_mod and use for experiments\n",
    "df_mod.shape"
   ]
  },
  {
   "cell_type": "code",
   "execution_count": 14,
   "metadata": {},
   "outputs": [],
   "source": [
    "#Exploring data\n",
    "#df_mod.iloc[200:215] # few rows of dataframe\n",
    "#df_mod.iloc[:,35:50] # last few column of data frame "
   ]
  },
  {
   "cell_type": "code",
   "execution_count": 15,
   "metadata": {
    "scrolled": false
   },
   "outputs": [
    {
     "data": {
      "text/plain": [
       "array([nan, 'A', 'C', 'B', 'D'], dtype=object)"
      ]
     },
     "metadata": {},
     "output_type": "display_data"
    },
    {
     "name": "stdout",
     "output_type": "stream",
     "text": [
      "Wall time: 982 ms\n",
      "Wall time: 986 ms\n"
     ]
    },
    {
     "data": {
      "text/plain": [
       "array(['E', 'A', 'C', 'B', 'D'], dtype=object)"
      ]
     },
     "metadata": {},
     "output_type": "display_data"
    },
    {
     "name": "stdout",
     "output_type": "stream",
     "text": [
      "Wall time: 784 ms\n"
     ]
    }
   ],
   "source": [
    "#Change all nan in CANCELLATION_CODE column to letter E - E stands for \"No Reason /Reason unknown\"\n",
    "%time display(df_mod.CANCELLATION_CODE.unique())\n",
    "%time df_mod['CANCELLATION_CODE'].fillna('E', inplace=True)\n",
    "%time display(df_mod.CANCELLATION_CODE.unique())"
   ]
  },
  {
   "cell_type": "markdown",
   "metadata": {},
   "source": [
    "#### CONVERT ALL ROWS WITH NAN THAT HAS A,B,C,D IN THEIR COLUMNS\n",
    "- This will add benefits to analysis with cancellation code column later on\n",
    "- This will conserve and reservation cancellation codes to be used later"
   ]
  },
  {
   "cell_type": "code",
   "execution_count": 16,
   "metadata": {
    "scrolled": true
   },
   "outputs": [
    {
     "name": "stdout",
     "output_type": "stream",
     "text": [
      "Wall time: 21.8 s\n",
      "Wall time: 21.1 s\n",
      "Wall time: 21.4 s\n",
      "Wall time: 22.8 s\n"
     ]
    },
    {
     "data": {
      "text/plain": [
       "(12771253, 58)"
      ]
     },
     "execution_count": 16,
     "metadata": {},
     "output_type": "execute_result"
    }
   ],
   "source": [
    "%time df_mod[(df_mod['CANCELLATION_CODE']=='A')] = df_mod[(df_mod['CANCELLATION_CODE']=='A')].replace(to_replace = np.nan, value = 0)\n",
    "%time df_mod[(df_mod['CANCELLATION_CODE']=='B')] = df_mod[(df_mod['CANCELLATION_CODE']=='B')].replace(to_replace = np.nan, value = 0)\n",
    "%time df_mod[(df_mod['CANCELLATION_CODE']=='C')] = df_mod[(df_mod['CANCELLATION_CODE']=='C')].replace(to_replace = np.nan, value = 0)\n",
    "%time df_mod[(df_mod['CANCELLATION_CODE']=='D')] = df_mod[(df_mod['CANCELLATION_CODE']=='D')].replace(to_replace = np.nan, value = 0) \n",
    "df_mod.shape"
   ]
  },
  {
   "cell_type": "code",
   "execution_count": 17,
   "metadata": {},
   "outputs": [],
   "source": [
    "#df_mod[(df_mod['CANCELLATION_CODE']=='B')]"
   ]
  },
  {
   "cell_type": "markdown",
   "metadata": {},
   "source": [
    "## REASONS FOR DROPPING ROWS\n",
    "- Samantha noticed the difference that all negative numbers for depature delays had NAN in other columns\n",
    "- After futher investigation, description of Dep Delay is Difference in minutes between scheduled and actual departure time. Early departures show negative numbers.\n",
    "### No need to take early depatures into consideration since investigation is being done on delay hence  the dropping of rows which  also eliminated the NANs\n",
    "- this reduced the dataset from (12771253, 58) to (2660084, 58)\n",
    "    - Still a healthy size dataset"
   ]
  },
  {
   "cell_type": "code",
   "execution_count": 18,
   "metadata": {},
   "outputs": [
    {
     "name": "stdout",
     "output_type": "stream",
     "text": [
      "Wall time: 31 s\n",
      "Wall time: 1.9 s\n"
     ]
    },
    {
     "data": {
      "text/plain": [
       "(2660084, 58)"
      ]
     },
     "metadata": {},
     "output_type": "display_data"
    },
    {
     "name": "stdout",
     "output_type": "stream",
     "text": [
      "Wall time: 2.99 ms\n"
     ]
    }
   ],
   "source": [
    "#Drop rows with NAN values in data frame\n",
    "#%time df_mod = df.copy() # create df_mod and use for experiments\n",
    "####\n",
    "#%time df_mod = df_mod.apply (pd.to_numeric, errors='coerce')\n",
    "#%time df_mod = df_mod.dropna(inplace=True)\n",
    "%time df_mod = df_mod.dropna()\n",
    "%time df_mod = df_mod.reset_index(drop=True)\n",
    "\n",
    "%time display(df_mod.shape)\n",
    "#%time display(df_mod.head(7))"
   ]
  },
  {
   "cell_type": "code",
   "execution_count": 19,
   "metadata": {
    "scrolled": true
   },
   "outputs": [
    {
     "name": "stdout",
     "output_type": "stream",
     "text": [
      "Wall time: 3.94 s\n"
     ]
    },
    {
     "data": {
      "text/plain": [
       "YEAR                    0\n",
       "QUARTER                 0\n",
       "MONTH                   0\n",
       "DAY_OF_MONTH            0\n",
       "DAY_OF_WEEK             0\n",
       "FL_DATE                 0\n",
       "OP_UNIQUE_CARRIER       0\n",
       "OP_CARRIER_AIRLINE_ID   0\n",
       "OP_CARRIER              0\n",
       "OP_CARRIER_FL_NUM       0\n",
       "ORIGIN_AIRPORT_ID       0\n",
       "ORIGIN_AIRPORT_SEQ_ID   0\n",
       "ORIGIN_CITY_MARKET_ID   0\n",
       "ORIGIN                  0\n",
       "ORIGIN_CITY_NAME        0\n",
       "ORIGIN_STATE_ABR        0\n",
       "ORIGIN_STATE_NM         0\n",
       "DEST_AIRPORT_ID         0\n",
       "DEST_AIRPORT_SEQ_ID     0\n",
       "DEST_CITY_MARKET_ID     0\n",
       "DEST                    0\n",
       "DEST_CITY_NAME          0\n",
       "DEST_STATE_ABR          0\n",
       "DEST_STATE_NM           0\n",
       "CRS_DEP_TIME            0\n",
       "DEP_TIME                0\n",
       "DEP_DELAY               0\n",
       "DEP_DELAY_NEW           0\n",
       "DEP_DEL15               0\n",
       "DEP_DELAY_GROUP         0\n",
       "DEP_TIME_BLK            0\n",
       "TAXI_OUT                0\n",
       "WHEELS_OFF              0\n",
       "WHEELS_ON               0\n",
       "TAXI_IN                 0\n",
       "CRS_ARR_TIME            0\n",
       "ARR_TIME                0\n",
       "ARR_DELAY               0\n",
       "ARR_DELAY_NEW           0\n",
       "ARR_DEL15               0\n",
       "ARR_DELAY_GROUP         0\n",
       "ARR_TIME_BLK            0\n",
       "CANCELLED               0\n",
       "CANCELLATION_CODE       0\n",
       "DIVERTED                0\n",
       "CRS_ELAPSED_TIME        0\n",
       "ACTUAL_ELAPSED_TIME     0\n",
       "AIR_TIME                0\n",
       "FLIGHTS                 0\n",
       "DISTANCE                0\n",
       "DISTANCE_GROUP          0\n",
       "CARRIER_DELAY           0\n",
       "WEATHER_DELAY           0\n",
       "NAS_DELAY               0\n",
       "SECURITY_DELAY          0\n",
       "LATE_AIRCRAFT_DELAY     0\n",
       "Monthd                  0\n",
       "MY                      0\n",
       "dtype: float64"
      ]
     },
     "execution_count": 19,
     "metadata": {},
     "output_type": "execute_result"
    }
   ],
   "source": [
    "%time round(df_mod.isnull().mean()*100,2) "
   ]
  },
  {
   "cell_type": "code",
   "execution_count": 20,
   "metadata": {
    "scrolled": true
   },
   "outputs": [
    {
     "data": {
      "text/plain": [
       "Index(['YEAR', 'QUARTER', 'MONTH', 'DAY_OF_MONTH', 'DAY_OF_WEEK', 'FL_DATE',\n",
       "       'OP_UNIQUE_CARRIER', 'OP_CARRIER_AIRLINE_ID', 'OP_CARRIER',\n",
       "       'OP_CARRIER_FL_NUM', 'ORIGIN_AIRPORT_ID', 'ORIGIN_AIRPORT_SEQ_ID',\n",
       "       'ORIGIN_CITY_MARKET_ID', 'ORIGIN', 'ORIGIN_CITY_NAME',\n",
       "       'ORIGIN_STATE_ABR', 'ORIGIN_STATE_NM', 'DEST_AIRPORT_ID',\n",
       "       'DEST_AIRPORT_SEQ_ID', 'DEST_CITY_MARKET_ID', 'DEST', 'DEST_CITY_NAME',\n",
       "       'DEST_STATE_ABR', 'DEST_STATE_NM', 'CRS_DEP_TIME', 'DEP_TIME',\n",
       "       'DEP_DELAY', 'DEP_DELAY_NEW', 'DEP_DEL15', 'DEP_DELAY_GROUP',\n",
       "       'DEP_TIME_BLK', 'TAXI_OUT', 'WHEELS_OFF', 'WHEELS_ON', 'TAXI_IN',\n",
       "       'CRS_ARR_TIME', 'ARR_TIME', 'ARR_DELAY', 'ARR_DELAY_NEW', 'ARR_DEL15',\n",
       "       'ARR_DELAY_GROUP', 'ARR_TIME_BLK', 'CANCELLED', 'CANCELLATION_CODE',\n",
       "       'DIVERTED', 'CRS_ELAPSED_TIME', 'ACTUAL_ELAPSED_TIME', 'AIR_TIME',\n",
       "       'FLIGHTS', 'DISTANCE', 'DISTANCE_GROUP', 'CARRIER_DELAY',\n",
       "       'WEATHER_DELAY', 'NAS_DELAY', 'SECURITY_DELAY', 'LATE_AIRCRAFT_DELAY',\n",
       "       'Monthd', 'MY'],\n",
       "      dtype='object')"
      ]
     },
     "metadata": {},
     "output_type": "display_data"
    },
    {
     "data": {
      "text/plain": [
       "array(['E', 'A', 'C', 'B', 'D'], dtype=object)"
      ]
     },
     "metadata": {},
     "output_type": "display_data"
    }
   ],
   "source": [
    "display(df_mod.columns)\n",
    "display(df_mod.CANCELLATION_CODE.unique())"
   ]
  },
  {
   "cell_type": "code",
   "execution_count": 21,
   "metadata": {
    "scrolled": false
   },
   "outputs": [
    {
     "data": {
      "text/plain": [
       "(18, 2)"
      ]
     },
     "metadata": {},
     "output_type": "display_data"
    },
    {
     "name": "stdout",
     "output_type": "stream",
     "text": [
      "<class 'pandas.core.frame.DataFrame'>\n",
      "RangeIndex: 18 entries, 0 to 17\n",
      "Data columns (total 2 columns):\n",
      "OP_CARRIER      18 non-null object\n",
      "carrier_name    18 non-null object\n",
      "dtypes: object(2)\n",
      "memory usage: 368.0+ bytes\n"
     ]
    },
    {
     "data": {
      "text/plain": [
       "None"
      ]
     },
     "metadata": {},
     "output_type": "display_data"
    },
    {
     "data": {
      "text/html": [
       "<div>\n",
       "<style scoped>\n",
       "    .dataframe tbody tr th:only-of-type {\n",
       "        vertical-align: middle;\n",
       "    }\n",
       "\n",
       "    .dataframe tbody tr th {\n",
       "        vertical-align: top;\n",
       "    }\n",
       "\n",
       "    .dataframe thead th {\n",
       "        text-align: right;\n",
       "    }\n",
       "</style>\n",
       "<table border=\"1\" class=\"dataframe\">\n",
       "  <thead>\n",
       "    <tr style=\"text-align: right;\">\n",
       "      <th></th>\n",
       "      <th>OP_CARRIER</th>\n",
       "      <th>carrier_name</th>\n",
       "    </tr>\n",
       "  </thead>\n",
       "  <tbody>\n",
       "    <tr>\n",
       "      <th>0</th>\n",
       "      <td>MQ</td>\n",
       "      <td>Envoy Air</td>\n",
       "    </tr>\n",
       "    <tr>\n",
       "      <th>1</th>\n",
       "      <td>NK</td>\n",
       "      <td>Spirit Air Lines</td>\n",
       "    </tr>\n",
       "    <tr>\n",
       "      <th>2</th>\n",
       "      <td>OH</td>\n",
       "      <td>PSA Airlines Inc.</td>\n",
       "    </tr>\n",
       "  </tbody>\n",
       "</table>\n",
       "</div>"
      ],
      "text/plain": [
       "  OP_CARRIER       carrier_name\n",
       "0         MQ          Envoy Air\n",
       "1         NK   Spirit Air Lines\n",
       "2         OH  PSA Airlines Inc."
      ]
     },
     "metadata": {},
     "output_type": "display_data"
    },
    {
     "data": {
      "text/plain": [
       "\"\\n#CN1 = CN.drop_duplicates()\\n#importing excel version of CN and dropping duplicate rows\\nCN1.shape\\ndf_mod.shape\\n#CN1.reset_index(inplace = True)\\n#CN1 = CN1.drop(['index'], axis=1)\\n#https://stackoverflow.com/questions/39019591/duplicated-rows-when-merging-dataframes-in-python\\n\""
      ]
     },
     "execution_count": 21,
     "metadata": {},
     "output_type": "execute_result"
    }
   ],
   "source": [
    "#import carrier name file and merge onto df_mod to have carrier name description attached\n",
    "#OR a map can be created to point all the carrier abbrv to the carrier names \n",
    "CN = pd.read_pickle('CN.pkl')\n",
    "display(CN.shape)\n",
    "display(CN.info())\n",
    "display(CN.head(3))\n",
    "'''\n",
    "#CN1 = CN.drop_duplicates()\n",
    "#importing excel version of CN and dropping duplicate rows\n",
    "CN1.shape\n",
    "df_mod.shape\n",
    "#CN1.reset_index(inplace = True)\n",
    "#CN1 = CN1.drop(['index'], axis=1)\n",
    "#https://stackoverflow.com/questions/39019591/duplicated-rows-when-merging-dataframes-in-python\n",
    "'''"
   ]
  },
  {
   "cell_type": "code",
   "execution_count": 22,
   "metadata": {
    "scrolled": false
   },
   "outputs": [
    {
     "name": "stdout",
     "output_type": "stream",
     "text": [
      "Wall time: 18.7 s\n"
     ]
    },
    {
     "data": {
      "text/plain": [
       "(2660084, 58)"
      ]
     },
     "metadata": {},
     "output_type": "display_data"
    },
    {
     "data": {
      "text/plain": [
       "(2660084, 59)"
      ]
     },
     "metadata": {},
     "output_type": "display_data"
    }
   ],
   "source": [
    "%time df_mod1 =  pd.merge(df_mod, CN, on='OP_CARRIER')\n",
    "display(df_mod.shape)\n",
    "display(df_mod1.shape)\n",
    "#https://jakevdp.github.io/PythonDataScienceHandbook/03.07-merge-and-join.html"
   ]
  },
  {
   "cell_type": "code",
   "execution_count": 23,
   "metadata": {
    "scrolled": true
   },
   "outputs": [
    {
     "data": {
      "text/plain": [
       "(6527, 2)"
      ]
     },
     "metadata": {},
     "output_type": "display_data"
    },
    {
     "name": "stdout",
     "output_type": "stream",
     "text": [
      "<class 'pandas.core.frame.DataFrame'>\n",
      "RangeIndex: 6527 entries, 0 to 6526\n",
      "Data columns (total 2 columns):\n",
      "Code           6527 non-null int64\n",
      "Description    6527 non-null object\n",
      "dtypes: int64(1), object(1)\n",
      "memory usage: 102.1+ KB\n"
     ]
    },
    {
     "data": {
      "text/plain": [
       "None"
      ]
     },
     "metadata": {},
     "output_type": "display_data"
    },
    {
     "data": {
      "text/html": [
       "<div>\n",
       "<style scoped>\n",
       "    .dataframe tbody tr th:only-of-type {\n",
       "        vertical-align: middle;\n",
       "    }\n",
       "\n",
       "    .dataframe tbody tr th {\n",
       "        vertical-align: top;\n",
       "    }\n",
       "\n",
       "    .dataframe thead th {\n",
       "        text-align: right;\n",
       "    }\n",
       "</style>\n",
       "<table border=\"1\" class=\"dataframe\">\n",
       "  <thead>\n",
       "    <tr style=\"text-align: right;\">\n",
       "      <th></th>\n",
       "      <th>Code</th>\n",
       "      <th>Description</th>\n",
       "    </tr>\n",
       "  </thead>\n",
       "  <tbody>\n",
       "    <tr>\n",
       "      <th>0</th>\n",
       "      <td>10001</td>\n",
       "      <td>Afognak Lake, AK: Afognak Lake Airport</td>\n",
       "    </tr>\n",
       "    <tr>\n",
       "      <th>1</th>\n",
       "      <td>10003</td>\n",
       "      <td>Granite Mountain, AK: Bear Creek Mining Strip</td>\n",
       "    </tr>\n",
       "    <tr>\n",
       "      <th>2</th>\n",
       "      <td>10004</td>\n",
       "      <td>Lik, AK: Lik Mining Camp</td>\n",
       "    </tr>\n",
       "  </tbody>\n",
       "</table>\n",
       "</div>"
      ],
      "text/plain": [
       "    Code                                    Description\n",
       "0  10001         Afognak Lake, AK: Afognak Lake Airport\n",
       "1  10003  Granite Mountain, AK: Bear Creek Mining Strip\n",
       "2  10004                       Lik, AK: Lik Mining Camp"
      ]
     },
     "metadata": {},
     "output_type": "display_data"
    }
   ],
   "source": [
    "#import airport codes and merge to dataframe\n",
    "A1 = pd.read_csv('L_AIRPORT_ID.csv')\n",
    "display(A1.shape)\n",
    "display(A1.info())\n",
    "display(A1.head(3))"
   ]
  },
  {
   "cell_type": "code",
   "execution_count": 24,
   "metadata": {},
   "outputs": [],
   "source": [
    "#Rename column for merging to dataframe\n",
    "A1 = A1.rename({'Code': 'ORIGIN_AIRPORT_ID'}, axis=1) \n",
    "#ORIGIN_AIRPORT_ID"
   ]
  },
  {
   "cell_type": "code",
   "execution_count": 25,
   "metadata": {
    "scrolled": true
   },
   "outputs": [
    {
     "data": {
      "text/plain": [
       "(2660084, 59)"
      ]
     },
     "metadata": {},
     "output_type": "display_data"
    },
    {
     "name": "stdout",
     "output_type": "stream",
     "text": [
      "Wall time: 5.32 s\n"
     ]
    },
    {
     "data": {
      "text/plain": [
       "(2660084, 60)"
      ]
     },
     "metadata": {},
     "output_type": "display_data"
    }
   ],
   "source": [
    "display(df_mod1.shape)\n",
    "%time df_mod1 =  pd.merge(df_mod1, A1, on='ORIGIN_AIRPORT_ID')\n",
    "display(df_mod1.shape)"
   ]
  },
  {
   "cell_type": "code",
   "execution_count": 26,
   "metadata": {},
   "outputs": [],
   "source": [
    "#Rename airport description column in dataframe\n",
    "df_mod1 = df_mod1.rename({'Description': 'ORIGIN_AIRPORT_DESC'}, axis=1) "
   ]
  },
  {
   "cell_type": "code",
   "execution_count": 27,
   "metadata": {},
   "outputs": [
    {
     "data": {
      "text/html": [
       "<div>\n",
       "<style scoped>\n",
       "    .dataframe tbody tr th:only-of-type {\n",
       "        vertical-align: middle;\n",
       "    }\n",
       "\n",
       "    .dataframe tbody tr th {\n",
       "        vertical-align: top;\n",
       "    }\n",
       "\n",
       "    .dataframe thead th {\n",
       "        text-align: right;\n",
       "    }\n",
       "</style>\n",
       "<table border=\"1\" class=\"dataframe\">\n",
       "  <thead>\n",
       "    <tr style=\"text-align: right;\">\n",
       "      <th></th>\n",
       "      <th>YEAR</th>\n",
       "      <th>QUARTER</th>\n",
       "      <th>MONTH</th>\n",
       "      <th>DAY_OF_MONTH</th>\n",
       "      <th>DAY_OF_WEEK</th>\n",
       "      <th>FL_DATE</th>\n",
       "      <th>OP_UNIQUE_CARRIER</th>\n",
       "      <th>OP_CARRIER_AIRLINE_ID</th>\n",
       "      <th>OP_CARRIER</th>\n",
       "      <th>OP_CARRIER_FL_NUM</th>\n",
       "      <th>...</th>\n",
       "      <th>DISTANCE_GROUP</th>\n",
       "      <th>CARRIER_DELAY</th>\n",
       "      <th>WEATHER_DELAY</th>\n",
       "      <th>NAS_DELAY</th>\n",
       "      <th>SECURITY_DELAY</th>\n",
       "      <th>LATE_AIRCRAFT_DELAY</th>\n",
       "      <th>Monthd</th>\n",
       "      <th>MY</th>\n",
       "      <th>carrier_name</th>\n",
       "      <th>ORIGIN_AIRPORT_DESC</th>\n",
       "    </tr>\n",
       "  </thead>\n",
       "  <tbody>\n",
       "    <tr>\n",
       "      <th>0</th>\n",
       "      <td>2018</td>\n",
       "      <td>4</td>\n",
       "      <td>10</td>\n",
       "      <td>1</td>\n",
       "      <td>1</td>\n",
       "      <td>2018-10-01</td>\n",
       "      <td>WN</td>\n",
       "      <td>19393</td>\n",
       "      <td>WN</td>\n",
       "      <td>4025</td>\n",
       "      <td>...</td>\n",
       "      <td>4</td>\n",
       "      <td>2</td>\n",
       "      <td>0</td>\n",
       "      <td>1</td>\n",
       "      <td>0</td>\n",
       "      <td>13</td>\n",
       "      <td>Oct</td>\n",
       "      <td>Oct_2018</td>\n",
       "      <td>Southwest Airlines Co.</td>\n",
       "      <td>Albuquerque, NM: Albuquerque International Sun...</td>\n",
       "    </tr>\n",
       "    <tr>\n",
       "      <th>1</th>\n",
       "      <td>2018</td>\n",
       "      <td>4</td>\n",
       "      <td>10</td>\n",
       "      <td>1</td>\n",
       "      <td>1</td>\n",
       "      <td>2018-10-01</td>\n",
       "      <td>WN</td>\n",
       "      <td>19393</td>\n",
       "      <td>WN</td>\n",
       "      <td>5757</td>\n",
       "      <td>...</td>\n",
       "      <td>3</td>\n",
       "      <td>0</td>\n",
       "      <td>0</td>\n",
       "      <td>0</td>\n",
       "      <td>0</td>\n",
       "      <td>232</td>\n",
       "      <td>Oct</td>\n",
       "      <td>Oct_2018</td>\n",
       "      <td>Southwest Airlines Co.</td>\n",
       "      <td>Albuquerque, NM: Albuquerque International Sun...</td>\n",
       "    </tr>\n",
       "    <tr>\n",
       "      <th>2</th>\n",
       "      <td>2018</td>\n",
       "      <td>4</td>\n",
       "      <td>10</td>\n",
       "      <td>1</td>\n",
       "      <td>1</td>\n",
       "      <td>2018-10-01</td>\n",
       "      <td>WN</td>\n",
       "      <td>19393</td>\n",
       "      <td>WN</td>\n",
       "      <td>538</td>\n",
       "      <td>...</td>\n",
       "      <td>5</td>\n",
       "      <td>0</td>\n",
       "      <td>0</td>\n",
       "      <td>0</td>\n",
       "      <td>0</td>\n",
       "      <td>34</td>\n",
       "      <td>Oct</td>\n",
       "      <td>Oct_2018</td>\n",
       "      <td>Southwest Airlines Co.</td>\n",
       "      <td>Albuquerque, NM: Albuquerque International Sun...</td>\n",
       "    </tr>\n",
       "  </tbody>\n",
       "</table>\n",
       "<p>3 rows × 60 columns</p>\n",
       "</div>"
      ],
      "text/plain": [
       "   YEAR  QUARTER  MONTH  DAY_OF_MONTH  DAY_OF_WEEK     FL_DATE  \\\n",
       "0  2018        4     10             1            1  2018-10-01   \n",
       "1  2018        4     10             1            1  2018-10-01   \n",
       "2  2018        4     10             1            1  2018-10-01   \n",
       "\n",
       "  OP_UNIQUE_CARRIER  OP_CARRIER_AIRLINE_ID OP_CARRIER  OP_CARRIER_FL_NUM  \\\n",
       "0                WN                  19393         WN               4025   \n",
       "1                WN                  19393         WN               5757   \n",
       "2                WN                  19393         WN                538   \n",
       "\n",
       "                         ...                          DISTANCE_GROUP  \\\n",
       "0                        ...                                       4   \n",
       "1                        ...                                       3   \n",
       "2                        ...                                       5   \n",
       "\n",
       "   CARRIER_DELAY  WEATHER_DELAY NAS_DELAY SECURITY_DELAY LATE_AIRCRAFT_DELAY  \\\n",
       "0              2              0         1              0                  13   \n",
       "1              0              0         0              0                 232   \n",
       "2              0              0         0              0                  34   \n",
       "\n",
       "  Monthd        MY            carrier_name  \\\n",
       "0    Oct  Oct_2018  Southwest Airlines Co.   \n",
       "1    Oct  Oct_2018  Southwest Airlines Co.   \n",
       "2    Oct  Oct_2018  Southwest Airlines Co.   \n",
       "\n",
       "                                 ORIGIN_AIRPORT_DESC  \n",
       "0  Albuquerque, NM: Albuquerque International Sun...  \n",
       "1  Albuquerque, NM: Albuquerque International Sun...  \n",
       "2  Albuquerque, NM: Albuquerque International Sun...  \n",
       "\n",
       "[3 rows x 60 columns]"
      ]
     },
     "metadata": {},
     "output_type": "display_data"
    }
   ],
   "source": [
    "display(df_mod1.head(3))"
   ]
  },
  {
   "cell_type": "code",
   "execution_count": 28,
   "metadata": {},
   "outputs": [
    {
     "data": {
      "text/plain": [
       "array(['WN', 'AA', 'AS', 'B6', 'DL', 'F9', 'G4', 'MQ', 'UA', 'YV', 'YX',\n",
       "       'EV', 'OO', 'NK', 'OH', '9E', 'VX', 'HA'], dtype=object)"
      ]
     },
     "metadata": {},
     "output_type": "display_data"
    },
    {
     "data": {
      "text/plain": [
       "array(['Southwest Airlines Co.', 'American Airlines Inc.',\n",
       "       'Alaska Airlines Inc.', 'JetBlue Airways', 'Delta Air Lines Inc.',\n",
       "       'Frontier Airlines Inc.', 'Allegiant Air', 'Envoy Air',\n",
       "       'United Air Lines Inc.', 'Mesa Airlines Inc.', 'Republic Airline',\n",
       "       'ExpressJet Airlines Inc.', 'SkyWest Airlines Inc.',\n",
       "       'Spirit Air Lines', 'PSA Airlines Inc.', 'Endeavor Air Inc.',\n",
       "       'Virgin America', 'Hawaiian Airlines Inc.'], dtype=object)"
      ]
     },
     "metadata": {},
     "output_type": "display_data"
    }
   ],
   "source": [
    "display(df_mod1.OP_CARRIER.unique())\n",
    "display(df_mod1.carrier_name.unique())"
   ]
  },
  {
   "cell_type": "code",
   "execution_count": 29,
   "metadata": {},
   "outputs": [
    {
     "name": "stdout",
     "output_type": "stream",
     "text": [
      "<class 'pandas.core.frame.DataFrame'>\n",
      "Int64Index: 2660084 entries, 0 to 2660083\n",
      "Data columns (total 60 columns):\n",
      "YEAR                     int64\n",
      "QUARTER                  int64\n",
      "MONTH                    int64\n",
      "DAY_OF_MONTH             int64\n",
      "DAY_OF_WEEK              int64\n",
      "FL_DATE                  object\n",
      "OP_UNIQUE_CARRIER        object\n",
      "OP_CARRIER_AIRLINE_ID    int64\n",
      "OP_CARRIER               object\n",
      "OP_CARRIER_FL_NUM        int64\n",
      "ORIGIN_AIRPORT_ID        int64\n",
      "ORIGIN_AIRPORT_SEQ_ID    int64\n",
      "ORIGIN_CITY_MARKET_ID    int64\n",
      "ORIGIN                   object\n",
      "ORIGIN_CITY_NAME         object\n",
      "ORIGIN_STATE_ABR         object\n",
      "ORIGIN_STATE_NM          object\n",
      "DEST_AIRPORT_ID          int64\n",
      "DEST_AIRPORT_SEQ_ID      int64\n",
      "DEST_CITY_MARKET_ID      int64\n",
      "DEST                     object\n",
      "DEST_CITY_NAME           object\n",
      "DEST_STATE_ABR           object\n",
      "DEST_STATE_NM            object\n",
      "CRS_DEP_TIME             int64\n",
      "DEP_TIME                 float64\n",
      "DEP_DELAY                float64\n",
      "DEP_DELAY_NEW            float64\n",
      "DEP_DEL15                float64\n",
      "DEP_DELAY_GROUP          float64\n",
      "DEP_TIME_BLK             object\n",
      "TAXI_OUT                 float64\n",
      "WHEELS_OFF               float64\n",
      "WHEELS_ON                float64\n",
      "TAXI_IN                  float64\n",
      "CRS_ARR_TIME             int64\n",
      "ARR_TIME                 float64\n",
      "ARR_DELAY                float64\n",
      "ARR_DELAY_NEW            float64\n",
      "ARR_DEL15                float64\n",
      "ARR_DELAY_GROUP          float64\n",
      "ARR_TIME_BLK             object\n",
      "CANCELLED                float64\n",
      "CANCELLATION_CODE        object\n",
      "DIVERTED                 float64\n",
      "CRS_ELAPSED_TIME         float64\n",
      "ACTUAL_ELAPSED_TIME      float64\n",
      "AIR_TIME                 float64\n",
      "FLIGHTS                  float64\n",
      "DISTANCE                 float64\n",
      "DISTANCE_GROUP           int64\n",
      "CARRIER_DELAY            float64\n",
      "WEATHER_DELAY            float64\n",
      "NAS_DELAY                float64\n",
      "SECURITY_DELAY           float64\n",
      "LATE_AIRCRAFT_DELAY      float64\n",
      "Monthd                   object\n",
      "MY                       object\n",
      "carrier_name             object\n",
      "ORIGIN_AIRPORT_DESC      object\n",
      "dtypes: float64(26), int64(16), object(18)\n",
      "memory usage: 1.2+ GB\n"
     ]
    },
    {
     "data": {
      "text/plain": [
       "None"
      ]
     },
     "metadata": {},
     "output_type": "display_data"
    }
   ],
   "source": [
    "display(df_mod1.info())\n"
   ]
  },
  {
   "cell_type": "code",
   "execution_count": 30,
   "metadata": {
    "scrolled": true
   },
   "outputs": [
    {
     "name": "stdout",
     "output_type": "stream",
     "text": [
      "Wall time: 1.45 s\n"
     ]
    }
   ],
   "source": [
    "#Renaming dataframe\n",
    "%time flights = df_mod1.copy()"
   ]
  },
  {
   "cell_type": "code",
   "execution_count": 31,
   "metadata": {},
   "outputs": [],
   "source": [
    "#USE IMPORTED AIRPORT CODE AND ADD DESTINATION\n",
    "#CHANGE NAME OF COLUMN TO DESTINATION - ORIGIN CODE DATASET IS SAME AS DEST CODE"
   ]
  },
  {
   "cell_type": "code",
   "execution_count": 32,
   "metadata": {},
   "outputs": [
    {
     "data": {
      "text/html": [
       "<div>\n",
       "<style scoped>\n",
       "    .dataframe tbody tr th:only-of-type {\n",
       "        vertical-align: middle;\n",
       "    }\n",
       "\n",
       "    .dataframe tbody tr th {\n",
       "        vertical-align: top;\n",
       "    }\n",
       "\n",
       "    .dataframe thead th {\n",
       "        text-align: right;\n",
       "    }\n",
       "</style>\n",
       "<table border=\"1\" class=\"dataframe\">\n",
       "  <thead>\n",
       "    <tr style=\"text-align: right;\">\n",
       "      <th></th>\n",
       "      <th>DEST_AIRPORT_ID</th>\n",
       "      <th>Description</th>\n",
       "    </tr>\n",
       "  </thead>\n",
       "  <tbody>\n",
       "    <tr>\n",
       "      <th>0</th>\n",
       "      <td>10001</td>\n",
       "      <td>Afognak Lake, AK: Afognak Lake Airport</td>\n",
       "    </tr>\n",
       "    <tr>\n",
       "      <th>1</th>\n",
       "      <td>10003</td>\n",
       "      <td>Granite Mountain, AK: Bear Creek Mining Strip</td>\n",
       "    </tr>\n",
       "    <tr>\n",
       "      <th>2</th>\n",
       "      <td>10004</td>\n",
       "      <td>Lik, AK: Lik Mining Camp</td>\n",
       "    </tr>\n",
       "  </tbody>\n",
       "</table>\n",
       "</div>"
      ],
      "text/plain": [
       "   DEST_AIRPORT_ID                                    Description\n",
       "0            10001         Afognak Lake, AK: Afognak Lake Airport\n",
       "1            10003  Granite Mountain, AK: Bear Creek Mining Strip\n",
       "2            10004                       Lik, AK: Lik Mining Camp"
      ]
     },
     "metadata": {},
     "output_type": "display_data"
    }
   ],
   "source": [
    "#Rename column for merging to dataframe\n",
    "A2 = A1.rename({'ORIGIN_AIRPORT_ID': 'DEST_AIRPORT_ID'}, axis=1) \n",
    "#DEST_AIRPORT_ID\n",
    "display(A2.head(3))"
   ]
  },
  {
   "cell_type": "code",
   "execution_count": 33,
   "metadata": {},
   "outputs": [
    {
     "data": {
      "text/plain": [
       "(2660084, 60)"
      ]
     },
     "metadata": {},
     "output_type": "display_data"
    },
    {
     "name": "stdout",
     "output_type": "stream",
     "text": [
      "Wall time: 33.7 s\n"
     ]
    },
    {
     "data": {
      "text/plain": [
       "(2660084, 61)"
      ]
     },
     "metadata": {},
     "output_type": "display_data"
    }
   ],
   "source": [
    "display(flights.shape)\n",
    "%time flights =  pd.merge(flights, A2, on='DEST_AIRPORT_ID')\n",
    "display(flights.shape)"
   ]
  },
  {
   "cell_type": "code",
   "execution_count": 34,
   "metadata": {},
   "outputs": [],
   "source": [
    "#Rename airport description column in dataframe\n",
    "flights = flights.rename({'Description': 'DEST_AIRPORT_DESC'}, axis=1) "
   ]
  },
  {
   "cell_type": "code",
   "execution_count": 35,
   "metadata": {},
   "outputs": [
    {
     "name": "stdout",
     "output_type": "stream",
     "text": [
      "Wall time: 9.84 s\n",
      "Wall time: 2.64 s\n",
      "Wall time: 7.05 s\n",
      "Wall time: 1.99 s\n",
      "Wall time: 2.23 s\n"
     ]
    }
   ],
   "source": [
    "#split airpot out the state column from destination airport description\n",
    "%time split = flights['DEST_AIRPORT_DESC'].str.split(\":\", n = 1, expand = True) \n",
    "%time flights = pd.concat([flights, split], axis = 1)\n",
    "#drop the column for 'DEST_AIRPORT_DESC''\n",
    "%time flights = flights.drop(columns = ['DEST_AIRPORT_DESC'])\n",
    "%time flights.rename(columns={0: 'City_State', 1:'DEST_AirportName'}, inplace=True)\n",
    "%time flights = flights.drop(columns = ['City_State'])"
   ]
  },
  {
   "cell_type": "code",
   "execution_count": 36,
   "metadata": {},
   "outputs": [],
   "source": [
    "#Stripping all trailing empty spaces in a column of dataframe\n",
    "flights['DEST_AirportName'] = flights['DEST_AirportName'].map(lambda x: x.strip())"
   ]
  },
  {
   "cell_type": "code",
   "execution_count": 37,
   "metadata": {},
   "outputs": [
    {
     "data": {
      "text/plain": [
       "(362, 7)"
      ]
     },
     "metadata": {},
     "output_type": "display_data"
    },
    {
     "data": {
      "text/html": [
       "<div>\n",
       "<style scoped>\n",
       "    .dataframe tbody tr th:only-of-type {\n",
       "        vertical-align: middle;\n",
       "    }\n",
       "\n",
       "    .dataframe tbody tr th {\n",
       "        vertical-align: top;\n",
       "    }\n",
       "\n",
       "    .dataframe thead th {\n",
       "        text-align: right;\n",
       "    }\n",
       "</style>\n",
       "<table border=\"1\" class=\"dataframe\">\n",
       "  <thead>\n",
       "    <tr style=\"text-align: right;\">\n",
       "      <th></th>\n",
       "      <th>Unnamed: 0</th>\n",
       "      <th>City</th>\n",
       "      <th>State</th>\n",
       "      <th>AirportName</th>\n",
       "      <th>latitude_deg</th>\n",
       "      <th>longitude_deg</th>\n",
       "      <th>elevation_ft</th>\n",
       "    </tr>\n",
       "  </thead>\n",
       "  <tbody>\n",
       "    <tr>\n",
       "      <th>0</th>\n",
       "      <td>352</td>\n",
       "      <td>Adak Island</td>\n",
       "      <td>AK</td>\n",
       "      <td>Adak</td>\n",
       "      <td>52</td>\n",
       "      <td>-177</td>\n",
       "      <td>18</td>\n",
       "    </tr>\n",
       "    <tr>\n",
       "      <th>1</th>\n",
       "      <td>299</td>\n",
       "      <td>Bethel</td>\n",
       "      <td>AK</td>\n",
       "      <td>Bethel Airport</td>\n",
       "      <td>61</td>\n",
       "      <td>-162</td>\n",
       "      <td>126</td>\n",
       "    </tr>\n",
       "    <tr>\n",
       "      <th>2</th>\n",
       "      <td>328</td>\n",
       "      <td>Deadhorse</td>\n",
       "      <td>AK</td>\n",
       "      <td>Deadhorse Airport</td>\n",
       "      <td>70</td>\n",
       "      <td>-148</td>\n",
       "      <td>65</td>\n",
       "    </tr>\n",
       "  </tbody>\n",
       "</table>\n",
       "</div>"
      ],
      "text/plain": [
       "   Unnamed: 0         City State         AirportName  latitude_deg  \\\n",
       "0         352  Adak Island    AK                Adak            52   \n",
       "1         299       Bethel    AK      Bethel Airport            61   \n",
       "2         328    Deadhorse    AK   Deadhorse Airport            70   \n",
       "\n",
       "   longitude_deg  elevation_ft  \n",
       "0           -177            18  \n",
       "1           -162           126  \n",
       "2           -148            65  "
      ]
     },
     "metadata": {},
     "output_type": "display_data"
    }
   ],
   "source": [
    "df_latlon = pd.read_csv('Dataset_AirportList_Main.csv')\n",
    "display(df_latlon.shape)\n",
    "display(df_latlon.head(3))"
   ]
  },
  {
   "cell_type": "code",
   "execution_count": 38,
   "metadata": {},
   "outputs": [
    {
     "name": "stdout",
     "output_type": "stream",
     "text": [
      "Wall time: 2 ms\n",
      "Wall time: 1.53 ms\n"
     ]
    },
    {
     "data": {
      "text/html": [
       "<div>\n",
       "<style scoped>\n",
       "    .dataframe tbody tr th:only-of-type {\n",
       "        vertical-align: middle;\n",
       "    }\n",
       "\n",
       "    .dataframe tbody tr th {\n",
       "        vertical-align: top;\n",
       "    }\n",
       "\n",
       "    .dataframe thead th {\n",
       "        text-align: right;\n",
       "    }\n",
       "</style>\n",
       "<table border=\"1\" class=\"dataframe\">\n",
       "  <thead>\n",
       "    <tr style=\"text-align: right;\">\n",
       "      <th></th>\n",
       "      <th>DEST_AirportName</th>\n",
       "      <th>latitude_deg</th>\n",
       "      <th>longitude_deg</th>\n",
       "      <th>elevation_ft</th>\n",
       "    </tr>\n",
       "  </thead>\n",
       "  <tbody>\n",
       "    <tr>\n",
       "      <th>0</th>\n",
       "      <td>Adak</td>\n",
       "      <td>52</td>\n",
       "      <td>-177</td>\n",
       "      <td>18</td>\n",
       "    </tr>\n",
       "    <tr>\n",
       "      <th>1</th>\n",
       "      <td>Bethel Airport</td>\n",
       "      <td>61</td>\n",
       "      <td>-162</td>\n",
       "      <td>126</td>\n",
       "    </tr>\n",
       "    <tr>\n",
       "      <th>2</th>\n",
       "      <td>Deadhorse Airport</td>\n",
       "      <td>70</td>\n",
       "      <td>-148</td>\n",
       "      <td>65</td>\n",
       "    </tr>\n",
       "  </tbody>\n",
       "</table>\n",
       "</div>"
      ],
      "text/plain": [
       "    DEST_AirportName  latitude_deg  longitude_deg  elevation_ft\n",
       "0               Adak            52           -177            18\n",
       "1     Bethel Airport            61           -162           126\n",
       "2  Deadhorse Airport            70           -148            65"
      ]
     },
     "metadata": {},
     "output_type": "display_data"
    }
   ],
   "source": [
    "#Dropping  columns not needed and Renaming columns \n",
    "%time df_latlon= df_latlon.drop(columns = ['Unnamed: 0', 'City','State'])\n",
    "%time df_latlon.rename(columns={'AirportName': 'DEST_AirportName'},inplace=True)\n",
    "#Stripping all trailing empty spaces in a needed columns of dataframe\n",
    "df_latlon['DEST_AirportName'] = df_latlon['DEST_AirportName'].map(lambda x: x.strip())\n",
    "display(df_latlon.head(3))"
   ]
  },
  {
   "cell_type": "code",
   "execution_count": 39,
   "metadata": {},
   "outputs": [
    {
     "name": "stdout",
     "output_type": "stream",
     "text": [
      "Wall time: 22.6 s\n",
      "Wall time: 6.4 s\n"
     ]
    },
    {
     "data": {
      "text/plain": [
       "(2661994, 64)"
      ]
     },
     "metadata": {},
     "output_type": "display_data"
    },
    {
     "data": {
      "text/html": [
       "<div>\n",
       "<style scoped>\n",
       "    .dataframe tbody tr th:only-of-type {\n",
       "        vertical-align: middle;\n",
       "    }\n",
       "\n",
       "    .dataframe tbody tr th {\n",
       "        vertical-align: top;\n",
       "    }\n",
       "\n",
       "    .dataframe thead th {\n",
       "        text-align: right;\n",
       "    }\n",
       "</style>\n",
       "<table border=\"1\" class=\"dataframe\">\n",
       "  <thead>\n",
       "    <tr style=\"text-align: right;\">\n",
       "      <th></th>\n",
       "      <th>YEAR</th>\n",
       "      <th>QUARTER</th>\n",
       "      <th>MONTH</th>\n",
       "      <th>DAY_OF_MONTH</th>\n",
       "      <th>DAY_OF_WEEK</th>\n",
       "      <th>FL_DATE</th>\n",
       "      <th>OP_UNIQUE_CARRIER</th>\n",
       "      <th>OP_CARRIER_AIRLINE_ID</th>\n",
       "      <th>OP_CARRIER</th>\n",
       "      <th>OP_CARRIER_FL_NUM</th>\n",
       "      <th>...</th>\n",
       "      <th>SECURITY_DELAY</th>\n",
       "      <th>LATE_AIRCRAFT_DELAY</th>\n",
       "      <th>Monthd</th>\n",
       "      <th>MY</th>\n",
       "      <th>carrier_name</th>\n",
       "      <th>ORIGIN_AIRPORT_DESC</th>\n",
       "      <th>DEST_AirportName</th>\n",
       "      <th>DEST_latitude</th>\n",
       "      <th>DEST_longitude</th>\n",
       "      <th>DEST_elevation_ft</th>\n",
       "    </tr>\n",
       "  </thead>\n",
       "  <tbody>\n",
       "    <tr>\n",
       "      <th>0</th>\n",
       "      <td>2018</td>\n",
       "      <td>4</td>\n",
       "      <td>10</td>\n",
       "      <td>1</td>\n",
       "      <td>1</td>\n",
       "      <td>2018-10-01</td>\n",
       "      <td>WN</td>\n",
       "      <td>19393</td>\n",
       "      <td>WN</td>\n",
       "      <td>4025</td>\n",
       "      <td>...</td>\n",
       "      <td>0.0000</td>\n",
       "      <td>13.0000</td>\n",
       "      <td>Oct</td>\n",
       "      <td>Oct_2018</td>\n",
       "      <td>Southwest Airlines Co.</td>\n",
       "      <td>Albuquerque, NM: Albuquerque International Sun...</td>\n",
       "      <td>William P Hobby</td>\n",
       "      <td>29.6454</td>\n",
       "      <td>-95.2789</td>\n",
       "      <td>46</td>\n",
       "    </tr>\n",
       "    <tr>\n",
       "      <th>1</th>\n",
       "      <td>2018</td>\n",
       "      <td>4</td>\n",
       "      <td>10</td>\n",
       "      <td>26</td>\n",
       "      <td>5</td>\n",
       "      <td>2018-10-26</td>\n",
       "      <td>WN</td>\n",
       "      <td>19393</td>\n",
       "      <td>WN</td>\n",
       "      <td>530</td>\n",
       "      <td>...</td>\n",
       "      <td>0.0000</td>\n",
       "      <td>0.0000</td>\n",
       "      <td>Oct</td>\n",
       "      <td>Oct_2018</td>\n",
       "      <td>Southwest Airlines Co.</td>\n",
       "      <td>Albuquerque, NM: Albuquerque International Sun...</td>\n",
       "      <td>William P Hobby</td>\n",
       "      <td>29.6454</td>\n",
       "      <td>-95.2789</td>\n",
       "      <td>46</td>\n",
       "    </tr>\n",
       "  </tbody>\n",
       "</table>\n",
       "<p>2 rows × 64 columns</p>\n",
       "</div>"
      ],
      "text/plain": [
       "   YEAR  QUARTER  MONTH  DAY_OF_MONTH  DAY_OF_WEEK     FL_DATE  \\\n",
       "0  2018        4     10             1            1  2018-10-01   \n",
       "1  2018        4     10            26            5  2018-10-26   \n",
       "\n",
       "  OP_UNIQUE_CARRIER  OP_CARRIER_AIRLINE_ID OP_CARRIER  OP_CARRIER_FL_NUM  \\\n",
       "0                WN                  19393         WN               4025   \n",
       "1                WN                  19393         WN                530   \n",
       "\n",
       "         ...          SECURITY_DELAY  LATE_AIRCRAFT_DELAY  Monthd        MY  \\\n",
       "0        ...                  0.0000              13.0000     Oct  Oct_2018   \n",
       "1        ...                  0.0000               0.0000     Oct  Oct_2018   \n",
       "\n",
       "             carrier_name                                ORIGIN_AIRPORT_DESC  \\\n",
       "0  Southwest Airlines Co.  Albuquerque, NM: Albuquerque International Sun...   \n",
       "1  Southwest Airlines Co.  Albuquerque, NM: Albuquerque International Sun...   \n",
       "\n",
       "  DEST_AirportName  DEST_latitude  DEST_longitude  DEST_elevation_ft  \n",
       "0  William P Hobby        29.6454        -95.2789                 46  \n",
       "1  William P Hobby        29.6454        -95.2789                 46  \n",
       "\n",
       "[2 rows x 64 columns]"
      ]
     },
     "metadata": {},
     "output_type": "display_data"
    }
   ],
   "source": [
    "#MERGE DF_LATLON TO FLIGHTS\n",
    "#pd.options.display.float_format = '{:.0f}'.format\n",
    "pd.options.display.float_format = '{:,.4f}'.format\n",
    "%time flights =  pd.merge(flights, df_latlon, on='DEST_AirportName')\n",
    "%time flights.rename(columns={'latitude_deg': 'DEST_latitude', 'longitude_deg': 'DEST_longitude', 'elevation_ft': 'DEST_elevation_ft'},inplace=True)\n",
    "display(flights.shape)\n",
    "display(flights.head(2))"
   ]
  },
  {
   "cell_type": "code",
   "execution_count": 40,
   "metadata": {},
   "outputs": [
    {
     "name": "stdout",
     "output_type": "stream",
     "text": [
      "Wall time: 11.8 s\n",
      "Wall time: 2.7 s\n",
      "Wall time: 6.87 s\n",
      "Wall time: 2.67 s\n",
      "Wall time: 2.64 s\n"
     ]
    }
   ],
   "source": [
    "#split airport out the state column from ORIGIN airport description\n",
    "%time split = flights['ORIGIN_AIRPORT_DESC'].str.split(\":\", n = 1, expand = True) \n",
    "%time flights = pd.concat([flights, split], axis = 1)\n",
    "#drop the column for 'DEST_AIRPORT_DESC''\n",
    "%time flights = flights.drop(columns = ['ORIGIN_AIRPORT_DESC'])\n",
    "%time flights.rename(columns={0: 'City_State', 1:'ORIGIN_AirportName'}, inplace=True)\n",
    "%time flights = flights.drop(columns = ['City_State'])\n",
    "#Stripping all trailing empty spaces in a column of dataframe\n",
    "flights['ORIGIN_AirportName'] = flights['ORIGIN_AirportName'].map(lambda x: x.strip())"
   ]
  },
  {
   "cell_type": "code",
   "execution_count": 41,
   "metadata": {},
   "outputs": [
    {
     "name": "stdout",
     "output_type": "stream",
     "text": [
      "Wall time: 998 µs\n"
     ]
    },
    {
     "data": {
      "text/html": [
       "<div>\n",
       "<style scoped>\n",
       "    .dataframe tbody tr th:only-of-type {\n",
       "        vertical-align: middle;\n",
       "    }\n",
       "\n",
       "    .dataframe tbody tr th {\n",
       "        vertical-align: top;\n",
       "    }\n",
       "\n",
       "    .dataframe thead th {\n",
       "        text-align: right;\n",
       "    }\n",
       "</style>\n",
       "<table border=\"1\" class=\"dataframe\">\n",
       "  <thead>\n",
       "    <tr style=\"text-align: right;\">\n",
       "      <th></th>\n",
       "      <th>ORIGIN_AirportName</th>\n",
       "      <th>latitude_deg</th>\n",
       "      <th>longitude_deg</th>\n",
       "      <th>elevation_ft</th>\n",
       "    </tr>\n",
       "  </thead>\n",
       "  <tbody>\n",
       "    <tr>\n",
       "      <th>0</th>\n",
       "      <td>Adak</td>\n",
       "      <td>51.8780</td>\n",
       "      <td>-176.6460</td>\n",
       "      <td>18</td>\n",
       "    </tr>\n",
       "    <tr>\n",
       "      <th>1</th>\n",
       "      <td>Bethel Airport</td>\n",
       "      <td>60.7798</td>\n",
       "      <td>-161.8380</td>\n",
       "      <td>126</td>\n",
       "    </tr>\n",
       "    <tr>\n",
       "      <th>2</th>\n",
       "      <td>Deadhorse Airport</td>\n",
       "      <td>70.1947</td>\n",
       "      <td>-148.4650</td>\n",
       "      <td>65</td>\n",
       "    </tr>\n",
       "  </tbody>\n",
       "</table>\n",
       "</div>"
      ],
      "text/plain": [
       "  ORIGIN_AirportName  latitude_deg  longitude_deg  elevation_ft\n",
       "0               Adak       51.8780      -176.6460            18\n",
       "1     Bethel Airport       60.7798      -161.8380           126\n",
       "2  Deadhorse Airport       70.1947      -148.4650            65"
      ]
     },
     "metadata": {},
     "output_type": "display_data"
    }
   ],
   "source": [
    "#RENAME DEST_AIRPORT COLUMNS TO ORIGIN\n",
    "%time df_latlon.rename(columns={'DEST_AirportName': 'ORIGIN_AirportName'},inplace=True)\n",
    "display(df_latlon.head(3))"
   ]
  },
  {
   "cell_type": "code",
   "execution_count": 42,
   "metadata": {},
   "outputs": [
    {
     "data": {
      "text/plain": [
       "(2661994, 64)"
      ]
     },
     "metadata": {},
     "output_type": "display_data"
    },
    {
     "name": "stdout",
     "output_type": "stream",
     "text": [
      "Wall time: 26.4 s\n",
      "Wall time: 6.8 s\n"
     ]
    },
    {
     "data": {
      "text/plain": [
       "(2663675, 67)"
      ]
     },
     "metadata": {},
     "output_type": "display_data"
    },
    {
     "data": {
      "text/html": [
       "<div>\n",
       "<style scoped>\n",
       "    .dataframe tbody tr th:only-of-type {\n",
       "        vertical-align: middle;\n",
       "    }\n",
       "\n",
       "    .dataframe tbody tr th {\n",
       "        vertical-align: top;\n",
       "    }\n",
       "\n",
       "    .dataframe thead th {\n",
       "        text-align: right;\n",
       "    }\n",
       "</style>\n",
       "<table border=\"1\" class=\"dataframe\">\n",
       "  <thead>\n",
       "    <tr style=\"text-align: right;\">\n",
       "      <th></th>\n",
       "      <th>YEAR</th>\n",
       "      <th>QUARTER</th>\n",
       "      <th>MONTH</th>\n",
       "      <th>DAY_OF_MONTH</th>\n",
       "      <th>DAY_OF_WEEK</th>\n",
       "      <th>FL_DATE</th>\n",
       "      <th>OP_UNIQUE_CARRIER</th>\n",
       "      <th>OP_CARRIER_AIRLINE_ID</th>\n",
       "      <th>OP_CARRIER</th>\n",
       "      <th>OP_CARRIER_FL_NUM</th>\n",
       "      <th>...</th>\n",
       "      <th>MY</th>\n",
       "      <th>carrier_name</th>\n",
       "      <th>DEST_AirportName</th>\n",
       "      <th>DEST_latitude</th>\n",
       "      <th>DEST_longitude</th>\n",
       "      <th>DEST_elevation_ft</th>\n",
       "      <th>ORIGIN_AirportName</th>\n",
       "      <th>ORIGIN_latitude</th>\n",
       "      <th>ORIGIN_longitude</th>\n",
       "      <th>ORIGIN_elevation_ft</th>\n",
       "    </tr>\n",
       "  </thead>\n",
       "  <tbody>\n",
       "    <tr>\n",
       "      <th>0</th>\n",
       "      <td>2018</td>\n",
       "      <td>4</td>\n",
       "      <td>10</td>\n",
       "      <td>1</td>\n",
       "      <td>1</td>\n",
       "      <td>2018-10-01</td>\n",
       "      <td>WN</td>\n",
       "      <td>19393</td>\n",
       "      <td>WN</td>\n",
       "      <td>4025</td>\n",
       "      <td>...</td>\n",
       "      <td>Oct_2018</td>\n",
       "      <td>Southwest Airlines Co.</td>\n",
       "      <td>William P Hobby</td>\n",
       "      <td>29.6454</td>\n",
       "      <td>-95.2789</td>\n",
       "      <td>46</td>\n",
       "      <td>Albuquerque International Sunport</td>\n",
       "      <td>35.0402</td>\n",
       "      <td>-106.6090</td>\n",
       "      <td>5355</td>\n",
       "    </tr>\n",
       "    <tr>\n",
       "      <th>1</th>\n",
       "      <td>2018</td>\n",
       "      <td>4</td>\n",
       "      <td>10</td>\n",
       "      <td>26</td>\n",
       "      <td>5</td>\n",
       "      <td>2018-10-26</td>\n",
       "      <td>WN</td>\n",
       "      <td>19393</td>\n",
       "      <td>WN</td>\n",
       "      <td>530</td>\n",
       "      <td>...</td>\n",
       "      <td>Oct_2018</td>\n",
       "      <td>Southwest Airlines Co.</td>\n",
       "      <td>William P Hobby</td>\n",
       "      <td>29.6454</td>\n",
       "      <td>-95.2789</td>\n",
       "      <td>46</td>\n",
       "      <td>Albuquerque International Sunport</td>\n",
       "      <td>35.0402</td>\n",
       "      <td>-106.6090</td>\n",
       "      <td>5355</td>\n",
       "    </tr>\n",
       "  </tbody>\n",
       "</table>\n",
       "<p>2 rows × 67 columns</p>\n",
       "</div>"
      ],
      "text/plain": [
       "   YEAR  QUARTER  MONTH  DAY_OF_MONTH  DAY_OF_WEEK     FL_DATE  \\\n",
       "0  2018        4     10             1            1  2018-10-01   \n",
       "1  2018        4     10            26            5  2018-10-26   \n",
       "\n",
       "  OP_UNIQUE_CARRIER  OP_CARRIER_AIRLINE_ID OP_CARRIER  OP_CARRIER_FL_NUM  \\\n",
       "0                WN                  19393         WN               4025   \n",
       "1                WN                  19393         WN                530   \n",
       "\n",
       "          ...                 MY            carrier_name  DEST_AirportName  \\\n",
       "0         ...           Oct_2018  Southwest Airlines Co.   William P Hobby   \n",
       "1         ...           Oct_2018  Southwest Airlines Co.   William P Hobby   \n",
       "\n",
       "  DEST_latitude DEST_longitude DEST_elevation_ft  \\\n",
       "0       29.6454       -95.2789                46   \n",
       "1       29.6454       -95.2789                46   \n",
       "\n",
       "                  ORIGIN_AirportName  ORIGIN_latitude  ORIGIN_longitude  \\\n",
       "0  Albuquerque International Sunport          35.0402         -106.6090   \n",
       "1  Albuquerque International Sunport          35.0402         -106.6090   \n",
       "\n",
       "   ORIGIN_elevation_ft  \n",
       "0                 5355  \n",
       "1                 5355  \n",
       "\n",
       "[2 rows x 67 columns]"
      ]
     },
     "metadata": {},
     "output_type": "display_data"
    }
   ],
   "source": [
    "#MERGE DF_LATLON TO FLIGHTS FOR ORIGINS\n",
    "pd.options.display.float_format = '{:,.4f}'.format\n",
    "display(flights.shape)\n",
    "%time flights =  pd.merge(flights, df_latlon, on='ORIGIN_AirportName')\n",
    "%time flights.rename(columns={'latitude_deg': 'ORIGIN_latitude', 'longitude_deg': 'ORIGIN_longitude', 'elevation_ft': 'ORIGIN_elevation_ft'},inplace=True)\n",
    "display(flights.shape)\n",
    "display(flights.head(2))"
   ]
  },
  {
   "cell_type": "code",
   "execution_count": 43,
   "metadata": {},
   "outputs": [
    {
     "data": {
      "text/plain": [
       "Index(['YEAR', 'QUARTER', 'MONTH', 'DAY_OF_MONTH', 'DAY_OF_WEEK', 'FL_DATE',\n",
       "       'OP_UNIQUE_CARRIER', 'OP_CARRIER_AIRLINE_ID', 'OP_CARRIER',\n",
       "       'OP_CARRIER_FL_NUM', 'ORIGIN_AIRPORT_ID', 'ORIGIN_AIRPORT_SEQ_ID',\n",
       "       'ORIGIN_CITY_MARKET_ID', 'ORIGIN', 'ORIGIN_CITY_NAME',\n",
       "       'ORIGIN_STATE_ABR', 'ORIGIN_STATE_NM', 'DEST_AIRPORT_ID',\n",
       "       'DEST_AIRPORT_SEQ_ID', 'DEST_CITY_MARKET_ID', 'DEST', 'DEST_CITY_NAME',\n",
       "       'DEST_STATE_ABR', 'DEST_STATE_NM', 'CRS_DEP_TIME', 'DEP_TIME',\n",
       "       'DEP_DELAY', 'DEP_DELAY_NEW', 'DEP_DEL15', 'DEP_DELAY_GROUP',\n",
       "       'DEP_TIME_BLK', 'TAXI_OUT', 'WHEELS_OFF', 'WHEELS_ON', 'TAXI_IN',\n",
       "       'CRS_ARR_TIME', 'ARR_TIME', 'ARR_DELAY', 'ARR_DELAY_NEW', 'ARR_DEL15',\n",
       "       'ARR_DELAY_GROUP', 'ARR_TIME_BLK', 'CANCELLED', 'CANCELLATION_CODE',\n",
       "       'DIVERTED', 'CRS_ELAPSED_TIME', 'ACTUAL_ELAPSED_TIME', 'AIR_TIME',\n",
       "       'FLIGHTS', 'DISTANCE', 'DISTANCE_GROUP', 'CARRIER_DELAY',\n",
       "       'WEATHER_DELAY', 'NAS_DELAY', 'SECURITY_DELAY', 'LATE_AIRCRAFT_DELAY',\n",
       "       'Monthd', 'MY', 'carrier_name', 'DEST_AirportName', 'DEST_latitude',\n",
       "       'DEST_longitude', 'DEST_elevation_ft', 'ORIGIN_AirportName',\n",
       "       'ORIGIN_latitude', 'ORIGIN_longitude', 'ORIGIN_elevation_ft'],\n",
       "      dtype='object')"
      ]
     },
     "execution_count": 43,
     "metadata": {},
     "output_type": "execute_result"
    }
   ],
   "source": [
    "flights.columns"
   ]
  },
  {
   "cell_type": "code",
   "execution_count": 44,
   "metadata": {},
   "outputs": [],
   "source": [
    "flights.to_pickle('flights.pkl') # saving modified dataframe\n",
    "#%time flights = pd.read_pickle('flights.pkl') #read and load saved dataframe to continued analysis"
   ]
  }
 ],
 "metadata": {
  "kernelspec": {
   "display_name": "Python 3",
   "language": "python",
   "name": "python3"
  },
  "language_info": {
   "codemirror_mode": {
    "name": "ipython",
    "version": 3
   },
   "file_extension": ".py",
   "mimetype": "text/x-python",
   "name": "python",
   "nbconvert_exporter": "python",
   "pygments_lexer": "ipython3",
   "version": "3.7.3"
  }
 },
 "nbformat": 4,
 "nbformat_minor": 2
}
